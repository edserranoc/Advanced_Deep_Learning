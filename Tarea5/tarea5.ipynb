{
  "cells": [
    {
      "cell_type": "markdown",
      "metadata": {
        "id": "7dU710CX1Z-i"
      },
      "source": [
        "<hr>\n",
        "<div style=\"background-color: lightgray; padding: 20px; color: black;\">\n",
        "<div>\n",
        "<img src=\"https://th.bing.com/th/id/R.3cd1c8dc996c5616cf6e65e20b6bf586?rik=09aaLyk4hfbBiQ&riu=http%3a%2f%2fcidics.uanl.mx%2fwp-content%2fuploads%2f2016%2f09%2fcimat.png&ehk=%2b0brgMUkA2BND22ixwLZheQrrOoYLO3o5cMRqsBOrlY%3d&risl=&pid=ImgRaw&r=0\" style=\"float: right; margin-right: 30px;\" width=\"200\"/>\n",
        "<font size=\"5.5\" color=\"8C3061\"><b>Modelos implícitos de difusión para eliminación de ruido (DDIM)\n",
        " </b></font> <br>\n",
        "<font size=\"4.5\" color=\"8C3061\"><b>Aprendizaje de Máquina II - Tarea 5 </b></font>\n",
        "</div>\n",
        "<div style=\"text-align: left\">  <br>\n",
        "Edison David Serrano Cárdenas. <br>\n",
        "MSc en Matemáticas Aplicadas <br>\n",
        "CIMAT - Sede Guanajuato <br>\n",
        "</div>\n",
        "\n",
        "</div>\n",
        "<hr>\n"
      ]
    },
    {
      "cell_type": "markdown",
      "metadata": {
        "id": "RqQD4doA1Z-n"
      },
      "source": [
        "# <font color=\"8C3061\" >**Introducción**</font>\n",
        "\n",
        "\n",
        "Los modelos de difusión considerados en esta tarea están enfocados a eliminar el ruido de las imágenes, y en generar imágenes eliminando iterativamente el ruido."
      ]
    },
    {
      "cell_type": "markdown",
      "metadata": {
        "id": "sVZWmPOj1Z-o"
      },
      "source": [
        "# <font color=\"8C3061\" >**Setup**</font>"
      ]
    },
    {
      "cell_type": "markdown",
      "metadata": {
        "id": "Wx4Jajlm1Z-o"
      },
      "source": [
        "***Cargar librerías:***"
      ]
    },
    {
      "cell_type": "code",
      "execution_count": 6,
      "metadata": {
        "id": "QmRFXCg-1Z-p"
      },
      "outputs": [],
      "source": [
        "import math\n",
        "import matplotlib.pyplot as plt\n",
        "import tensorflow as tf\n",
        "import tensorflow_datasets as tfds\n",
        "\n",
        "import keras\n",
        "from keras import layers\n",
        "from keras import ops"
      ]
    },
    {
      "cell_type": "markdown",
      "metadata": {
        "id": "YHSNJ8kt1Z-r"
      },
      "source": [
        "***Configuración de hiperparámetros:***"
      ]
    },
    {
      "cell_type": "code",
      "execution_count": 7,
      "metadata": {
        "id": "5244ffDN1Z-r"
      },
      "outputs": [],
      "source": [
        "# data\n",
        "dataset_name = \"oxford_flowers102\"\n",
        "dataset_repetitions = 5\n",
        "num_epochs = 10  # train for at least 50 epochs for good results\n",
        "image_size = 32\n",
        "# KID = Kernel Inception Distance, see related section\n",
        "kid_image_size = 75\n",
        "kid_diffusion_steps = 5\n",
        "plot_diffusion_steps = 20\n",
        "\n",
        "# sampling\n",
        "min_signal_rate = 0.02\n",
        "max_signal_rate = 0.95\n",
        "\n",
        "# architecture\n",
        "embedding_dims = 32\n",
        "embedding_max_frequency = 100.0\n",
        "num_heads = 2  # Número de cabezas de atención\n",
        "projection_dim = 64  # Dimensión de proyección\n",
        "transformer_depth = 2  # Profundidad del Transformer\n",
        "\n",
        "# Diffusion parameters\n",
        "num_steps = 1000\n",
        "\n",
        "# optimization\n",
        "batch_size = 16\n",
        "ema = 0.999\n",
        "learning_rate = 1e-3\n",
        "weight_decay = 1e-4"
      ]
    },
    {
      "cell_type": "markdown",
      "metadata": {
        "id": "c2m1qHLm1Z-s"
      },
      "source": [
        "***Canalización de los datos:***\n",
        "\n",
        "Usaremos el conjunto de datos\n",
        "[Oxford Flowers 102](https://www.tensorflow.org/datasets/catalog/oxford_flowers102)\n",
        "para\n",
        "generar imágenes de flores, que es un conjunto de datos naturales diverso que contiene alrededor de 8000\n",
        "imágenes. Se crea nuevas divisiones (80 % de entrenamiento, 20 % de validación) utilizando la\n",
        "[API de segmentación de conjuntos de datos de Tensorflow](https://www.tensorflow.org/datasets/splits) como es indicado en el código de referencia. Aplicamos\n",
        "recortes centrales como preprocesamiento y repetimos el conjunto de datos varias veces."
      ]
    },
    {
      "cell_type": "code",
      "execution_count": 8,
      "metadata": {
        "id": "AgGURt5P1Z-s"
      },
      "outputs": [],
      "source": [
        "def preprocess_image(data):\n",
        "    # center crop image\n",
        "    height = ops.shape(data[\"image\"])[0]\n",
        "    width = ops.shape(data[\"image\"])[1]\n",
        "    crop_size = ops.minimum(height, width)\n",
        "    image = tf.image.crop_to_bounding_box(\n",
        "        data[\"image\"],\n",
        "        (height - crop_size) // 2,\n",
        "        (width - crop_size) // 2,\n",
        "        crop_size,\n",
        "        crop_size,\n",
        "    )\n",
        "\n",
        "    # resize and clip\n",
        "    # for image downsampling it is important to turn on antialiasing\n",
        "    image = tf.image.resize(image, size=[image_size, image_size], antialias=True)\n",
        "    return ops.clip(image / 255.0, 0.0, 1.0)"
      ]
    },
    {
      "cell_type": "code",
      "execution_count": 9,
      "metadata": {
        "id": "HFcGDLC51Z-t"
      },
      "outputs": [],
      "source": [
        "def prepare_dataset(split):\n",
        "    # the validation dataset is shuffled as well, because data order matters\n",
        "    # for the KID estimation\n",
        "    return (\n",
        "        tfds.load(dataset_name, split=split, shuffle_files=True)\n",
        "        .map(preprocess_image, num_parallel_calls=tf.data.AUTOTUNE)\n",
        "        .cache()\n",
        "        .repeat(dataset_repetitions)\n",
        "        .shuffle(10 * batch_size)\n",
        "        .batch(batch_size, drop_remainder=True)\n",
        "        .prefetch(buffer_size=tf.data.AUTOTUNE)\n",
        "    )"
      ]
    },
    {
      "cell_type": "markdown",
      "metadata": {
        "id": "zOPHAQSd1Z-t"
      },
      "source": [
        "***Cargar Conjunto de Datos:***"
      ]
    },
    {
      "cell_type": "code",
      "execution_count": 10,
      "metadata": {
        "id": "YqMYJOK91Z-t"
      },
      "outputs": [],
      "source": [
        "train_dataset = prepare_dataset(\"train[:80%]+validation[:80%]+test[:80%]\")\n",
        "val_dataset = prepare_dataset(\"train[80%:]+validation[80%:]+test[80%:]\")"
      ]
    },
    {
      "cell_type": "markdown",
      "metadata": {
        "id": "PyYu3F831Z-u"
      },
      "source": [
        "# <font color=\"8C3061\" >**Kernel inception distance**</font>"
      ]
    },
    {
      "cell_type": "code",
      "execution_count": 11,
      "metadata": {
        "id": "KGuu58YL1Z-u"
      },
      "outputs": [],
      "source": [
        "@keras.saving.register_keras_serializable()\n",
        "class KID(keras.metrics.Metric):\n",
        "    def __init__(self, name, **kwargs):\n",
        "        super().__init__(name=name, **kwargs)\n",
        "\n",
        "        # KID is estimated per batch and is averaged across batches\n",
        "        self.kid_tracker = keras.metrics.Mean(name=\"kid_tracker\")\n",
        "\n",
        "        # a pretrained InceptionV3 is used without its classification layer\n",
        "        # transform the pixel values to the 0-255 range, then use the same\n",
        "        # preprocessing as during pretraining\n",
        "        self.encoder = keras.Sequential(\n",
        "            [\n",
        "                keras.Input(shape=(image_size, image_size, 3)),\n",
        "                layers.Rescaling(255.0),\n",
        "                layers.Resizing(height=kid_image_size, width=kid_image_size),\n",
        "                layers.Lambda(keras.applications.inception_v3.preprocess_input),\n",
        "                keras.applications.InceptionV3(\n",
        "                    include_top=False,\n",
        "                    input_shape=(kid_image_size, kid_image_size, 3),\n",
        "                    weights=\"imagenet\",\n",
        "                ),\n",
        "                layers.GlobalAveragePooling2D(),\n",
        "            ],\n",
        "            name=\"inception_encoder\",\n",
        "        )\n",
        "\n",
        "    def polynomial_kernel(self, features_1, features_2):\n",
        "        feature_dimensions = ops.cast(ops.shape(features_1)[1], dtype=\"float32\")\n",
        "        return (\n",
        "            features_1 @ ops.transpose(features_2) / feature_dimensions + 1.0\n",
        "        ) ** 3.0\n",
        "\n",
        "    def update_state(self, real_images, generated_images, sample_weight=None):\n",
        "        real_features = self.encoder(real_images, training=False)\n",
        "        generated_features = self.encoder(generated_images, training=False)\n",
        "\n",
        "        # compute polynomial kernels using the two sets of features\n",
        "        kernel_real = self.polynomial_kernel(real_features, real_features)\n",
        "        kernel_generated = self.polynomial_kernel(\n",
        "            generated_features, generated_features\n",
        "        )\n",
        "        kernel_cross = self.polynomial_kernel(real_features, generated_features)\n",
        "\n",
        "        # estimate the squared maximum mean discrepancy using the average kernel values\n",
        "        batch_size = real_features.shape[0]\n",
        "        batch_size_f = ops.cast(batch_size, dtype=\"float32\")\n",
        "        mean_kernel_real = ops.sum(kernel_real * (1.0 - ops.eye(batch_size))) / (\n",
        "            batch_size_f * (batch_size_f - 1.0)\n",
        "        )\n",
        "        mean_kernel_generated = ops.sum(\n",
        "            kernel_generated * (1.0 - ops.eye(batch_size))\n",
        "        ) / (batch_size_f * (batch_size_f - 1.0))\n",
        "        mean_kernel_cross = ops.mean(kernel_cross)\n",
        "        kid = mean_kernel_real + mean_kernel_generated - 2.0 * mean_kernel_cross\n",
        "\n",
        "        # update the average KID estimate\n",
        "        self.kid_tracker.update_state(kid)\n",
        "\n",
        "    def result(self):\n",
        "        return self.kid_tracker.result()\n",
        "\n",
        "    def reset_state(self):\n",
        "        self.kid_tracker.reset_state()"
      ]
    },
    {
      "cell_type": "markdown",
      "metadata": {
        "id": "x9V_LWFO1Z-u"
      },
      "source": [
        "# <font color=\"8C3061\" >**Arquitectura del Transformer**</font>"
      ]
    },
    {
      "cell_type": "markdown",
      "metadata": {
        "id": "n-iMuTs21Z-u"
      },
      "source": [
        "Vamos a definir la red neuronal que se usará para la eliminación del ruido. Esta será un *Visual Transformer*. Esta cuenta con entrada y salida con las mismas dimensiones."
      ]
    },
    {
      "cell_type": "code",
      "execution_count": 12,
      "metadata": {
        "id": "-It6LLrp1Z-u"
      },
      "outputs": [],
      "source": [
        "@keras.saving.register_keras_serializable()\n",
        "def sinusoidal_embedding(x):\n",
        "    embedding_min_frequency = 1.0\n",
        "    frequencies = ops.exp(\n",
        "        ops.linspace(\n",
        "            ops.log(embedding_min_frequency),\n",
        "            ops.log(embedding_max_frequency),\n",
        "            embedding_dims // 2,\n",
        "        )\n",
        "    )\n",
        "    angular_speeds = ops.cast(2.0 * math.pi * frequencies, \"float32\")\n",
        "    embeddings = ops.concatenate(\n",
        "        [ops.sin(angular_speeds * x), ops.cos(angular_speeds * x)], axis=3\n",
        "    )\n",
        "    return embeddings\n",
        "\n",
        "def transformer_block(inputs, num_heads, projection_dim):\n",
        "    # Normalización y atención multi-cabeza\n",
        "    x = layers.LayerNormalization(epsilon=1e-6)(inputs)\n",
        "    attention_output = layers.MultiHeadAttention(\n",
        "        num_heads=num_heads, key_dim=projection_dim, dropout=0.1\n",
        "    )(x, x)\n",
        "    x = layers.Add()([x, attention_output])\n",
        "\n",
        "    # Normalización y feed-forward (MLP)\n",
        "    x = layers.LayerNormalization(epsilon=1e-6)(x)\n",
        "    mlp_output = layers.Dense(projection_dim * 4, activation=\"gelu\")(x)\n",
        "    mlp_output = layers.Dense(projection_dim)(mlp_output)\n",
        "    return layers.Add()([x, mlp_output])\n",
        "\n",
        "def get_network(image_size, transformer_depth, num_heads, projection_dim):\n",
        "    noisy_images = keras.Input(shape=(image_size, image_size, 3))\n",
        "    noise_variances = keras.Input(shape=(1, 1, 1))\n",
        "\n",
        "    e = layers.Lambda(sinusoidal_embedding, output_shape=(1, 1, embedding_dims))(noise_variances)\n",
        "    e = layers.UpSampling2D(size=image_size, interpolation=\"nearest\")(e)\n",
        "    e = layers.Conv2D(projection_dim, kernel_size=1)(e)\n",
        "\n",
        "    x = layers.Conv2D(projection_dim, kernel_size=1)(noisy_images)\n",
        "    x = layers.Concatenate()([x, e])\n",
        "\n",
        "    # Reshape for Transformer (Flatten the spatial dimensions, keep the projection_dim as features)\n",
        "    x = layers.Reshape((image_size * image_size, 2*projection_dim))(x)\n",
        "\n",
        "    for _ in range(transformer_depth):\n",
        "        x = transformer_block(x, num_heads, 2*projection_dim)\n",
        "\n",
        "    # Reshape back to image format\n",
        "    x = layers.Reshape((image_size, image_size, 2*projection_dim))(x)\n",
        "\n",
        "    # Final convolution to output RGB channels\n",
        "    x = layers.Conv2D(3, kernel_size=1, kernel_initializer=\"zeros\")(x)\n",
        "\n",
        "    return keras.Model([noisy_images, noise_variances], x, name=\"transformer_image_model\")\n"
      ]
    },
    {
      "cell_type": "markdown",
      "metadata": {
        "id": "UPbnxi3Q1Z-v"
      },
      "source": [
        "# <font color=\"8C3061\" >**Modelo de Difusión**</font>"
      ]
    },
    {
      "cell_type": "code",
      "execution_count": 13,
      "metadata": {
        "id": "pw-uAENO1Z-v"
      },
      "outputs": [],
      "source": [
        "@keras.saving.register_keras_serializable()\n",
        "class DiffusionModel(keras.Model):\n",
        "    def __init__(self, image_size, transformer_depth, num_heads, projection_dim):\n",
        "        super().__init__()\n",
        "\n",
        "        self.normalizer = layers.Normalization()\n",
        "        self.network = get_network(image_size, transformer_depth, num_heads, projection_dim)\n",
        "        self.ema_network = keras.models.clone_model(self.network)\n",
        "\n",
        "    def compile(self, **kwargs):\n",
        "        super().compile(**kwargs)\n",
        "\n",
        "        self.noise_loss_tracker = keras.metrics.Mean(name=\"n_loss\")\n",
        "        self.image_loss_tracker = keras.metrics.Mean(name=\"i_loss\")\n",
        "        self.kid = KID(name=\"kid\")\n",
        "\n",
        "    @property\n",
        "    def metrics(self):\n",
        "        return [self.noise_loss_tracker, self.image_loss_tracker, self.kid]\n",
        "\n",
        "    def denormalize(self, images):\n",
        "        # convert the pixel values back to 0-1 range\n",
        "        images = self.normalizer.mean + images * self.normalizer.variance**0.5\n",
        "        return ops.clip(images, 0.0, 1.0)\n",
        "\n",
        "    def diffusion_schedule(self, diffusion_times):\n",
        "        # diffusion times -> angles\n",
        "        start_angle = ops.cast(ops.arccos(max_signal_rate), \"float32\")\n",
        "        end_angle = ops.cast(ops.arccos(min_signal_rate), \"float32\")\n",
        "\n",
        "        diffusion_angles = start_angle + diffusion_times * (end_angle - start_angle)\n",
        "\n",
        "        # angles -> signal and noise rates\n",
        "        signal_rates = ops.cos(diffusion_angles)\n",
        "        noise_rates = ops.sin(diffusion_angles)\n",
        "        # note that their squared sum is always: sin^2(x) + cos^2(x) = 1\n",
        "\n",
        "        return noise_rates, signal_rates\n",
        "\n",
        "    def denoise(self, noisy_images, noise_rates, signal_rates, training):\n",
        "        # the exponential moving average weights are used at evaluation\n",
        "        if training:\n",
        "            network = self.network\n",
        "        else:\n",
        "            network = self.ema_network\n",
        "\n",
        "        # predict noise component and calculate the image component using it\n",
        "        pred_noises = network([noisy_images, noise_rates**2], training=training)\n",
        "        pred_images = (noisy_images - noise_rates * pred_noises) / signal_rates\n",
        "\n",
        "        return pred_noises, pred_images\n",
        "\n",
        "    def reverse_diffusion(self, initial_noise, diffusion_steps):\n",
        "        # reverse diffusion = sampling\n",
        "        num_images = initial_noise.shape[0]\n",
        "        step_size = 1.0 / diffusion_steps\n",
        "\n",
        "        # important line:\n",
        "        # at the first sampling step, the \"noisy image\" is pure noise\n",
        "        # but its signal rate is assumed to be nonzero (min_signal_rate)\n",
        "        next_noisy_images = initial_noise\n",
        "\n",
        "        for step in range(diffusion_steps):\n",
        "            noisy_images = next_noisy_images\n",
        "\n",
        "            # separate the current noisy image to its components\n",
        "            diffusion_times = ops.ones((num_images, 1, 1, 1)) - step * step_size\n",
        "            noise_rates, signal_rates = self.diffusion_schedule(diffusion_times)\n",
        "            pred_noises, pred_images = self.denoise(\n",
        "                noisy_images, noise_rates, signal_rates, training=False\n",
        "            )\n",
        "            # network used in eval mode\n",
        "\n",
        "            # remix the predicted components using the next signal and noise rates\n",
        "            next_diffusion_times = diffusion_times - step_size\n",
        "            next_noise_rates, next_signal_rates = self.diffusion_schedule(\n",
        "                next_diffusion_times\n",
        "            )\n",
        "            next_noisy_images = (\n",
        "                next_signal_rates * pred_images + next_noise_rates * pred_noises\n",
        "            )\n",
        "            # this new noisy image will be used in the next step\n",
        "\n",
        "        return pred_images\n",
        "\n",
        "    def generate(self, num_images, diffusion_steps):\n",
        "        # noise -> images -> denormalized images\n",
        "        initial_noise = keras.random.normal(\n",
        "            shape=(num_images, image_size, image_size, 3)\n",
        "        )\n",
        "        generated_images = self.reverse_diffusion(initial_noise, diffusion_steps)\n",
        "        generated_images = self.denormalize(generated_images)\n",
        "        return generated_images\n",
        "\n",
        "    def train_step(self, images):\n",
        "        # normalize images to have standard deviation of 1, like the noises\n",
        "        images = self.normalizer(images, training=True)\n",
        "        noises = keras.random.normal(shape=(batch_size, image_size, image_size, 3))\n",
        "\n",
        "        # sample uniform random diffusion times\n",
        "        diffusion_times = keras.random.uniform(\n",
        "            shape=(batch_size, 1, 1, 1), minval=0.0, maxval=1.0\n",
        "        )\n",
        "        noise_rates, signal_rates = self.diffusion_schedule(diffusion_times)\n",
        "        # mix the images with noises accordingly\n",
        "        noisy_images = signal_rates * images + noise_rates * noises\n",
        "\n",
        "        with tf.GradientTape() as tape:\n",
        "            # train the network to separate noisy images to their components\n",
        "            pred_noises, pred_images = self.denoise(\n",
        "                noisy_images, noise_rates, signal_rates, training=True\n",
        "            )\n",
        "\n",
        "            noise_loss = self.loss(noises, pred_noises)  # used for training\n",
        "            image_loss = self.loss(images, pred_images)  # only used as metric\n",
        "\n",
        "        gradients = tape.gradient(noise_loss, self.network.trainable_weights)\n",
        "        self.optimizer.apply_gradients(zip(gradients, self.network.trainable_weights))\n",
        "\n",
        "        self.noise_loss_tracker.update_state(noise_loss)\n",
        "        self.image_loss_tracker.update_state(image_loss)\n",
        "\n",
        "        # track the exponential moving averages of weights\n",
        "        for weight, ema_weight in zip(self.network.weights, self.ema_network.weights):\n",
        "            ema_weight.assign(ema * ema_weight + (1 - ema) * weight)\n",
        "\n",
        "        # KID is not measured during the training phase for computational efficiency\n",
        "        return {m.name: m.result() for m in self.metrics[:-1]}\n",
        "\n",
        "    def test_step(self, images):\n",
        "        # normalize images to have standard deviation of 1, like the noises\n",
        "        images = self.normalizer(images, training=False)\n",
        "        noises = keras.random.normal(shape=(batch_size, image_size, image_size, 3))\n",
        "\n",
        "        # sample uniform random diffusion times\n",
        "        diffusion_times = keras.random.uniform(\n",
        "            shape=(batch_size, 1, 1, 1), minval=0.0, maxval=1.0\n",
        "        )\n",
        "        noise_rates, signal_rates = self.diffusion_schedule(diffusion_times)\n",
        "        # mix the images with noises accordingly\n",
        "        noisy_images = signal_rates * images + noise_rates * noises\n",
        "\n",
        "        # use the network to separate noisy images to their components\n",
        "        pred_noises, pred_images = self.denoise(\n",
        "            noisy_images, noise_rates, signal_rates, training=False\n",
        "        )\n",
        "\n",
        "        noise_loss = self.loss(noises, pred_noises)\n",
        "        image_loss = self.loss(images, pred_images)\n",
        "\n",
        "        self.image_loss_tracker.update_state(image_loss)\n",
        "        self.noise_loss_tracker.update_state(noise_loss)\n",
        "\n",
        "        # measure KID between real and generated images\n",
        "        # this is computationally demanding, kid_diffusion_steps has to be small\n",
        "        images = self.denormalize(images)\n",
        "        generated_images = self.generate(\n",
        "            num_images=batch_size, diffusion_steps=kid_diffusion_steps\n",
        "        )\n",
        "        self.kid.update_state(images, generated_images)\n",
        "\n",
        "        return {m.name: m.result() for m in self.metrics}\n",
        "\n",
        "    def plot_images(self, epoch=None, logs=None, num_rows=3, num_cols=6):\n",
        "        # plot random generated images for visual evaluation of generation quality\n",
        "        generated_images = self.generate(\n",
        "            num_images=num_rows * num_cols,\n",
        "            diffusion_steps=plot_diffusion_steps,\n",
        "        )\n",
        "\n",
        "        plt.figure(figsize=(num_cols * 2.0, num_rows * 2.0))\n",
        "        for row in range(num_rows):\n",
        "            for col in range(num_cols):\n",
        "                index = row * num_cols + col\n",
        "                plt.subplot(num_rows, num_cols, index + 1)\n",
        "                plt.imshow(generated_images[index])\n",
        "                plt.axis(\"off\")\n",
        "        plt.tight_layout()\n",
        "        plt.show()\n",
        "        plt.close()\n"
      ]
    },
    {
      "cell_type": "markdown",
      "metadata": {
        "id": "8nzj2Car1Z-v"
      },
      "source": [
        "# <font color=\"8C3061\" >**Entrenamiento**</font>\n",
        "\n"
      ]
    },
    {
      "cell_type": "code",
      "execution_count": 14,
      "metadata": {
        "colab": {
          "base_uri": "https://localhost:8080/"
        },
        "id": "IiX3YvUy1Z-w",
        "outputId": "ec176ff7-6ca7-47a9-9a3a-c05a9a7d69f4"
      },
      "outputs": [
        {
          "name": "stdout",
          "output_type": "stream",
          "text": [
            "Downloading data from https://storage.googleapis.com/tensorflow/keras-applications/inception_v3/inception_v3_weights_tf_dim_ordering_tf_kernels_notop.h5\n",
            "\u001b[1m87910968/87910968\u001b[0m \u001b[32m━━━━━━━━━━━━━━━━━━━━\u001b[0m\u001b[37m\u001b[0m \u001b[1m1s\u001b[0m 0us/step\n"
          ]
        }
      ],
      "source": [
        "model = DiffusionModel(image_size, transformer_depth, num_heads, projection_dim)\n",
        "\n",
        "model.compile(\n",
        "    optimizer=keras.optimizers.AdamW(\n",
        "        learning_rate=learning_rate, weight_decay=weight_decay\n",
        "    ),\n",
        "    loss=keras.losses.mean_absolute_error,\n",
        ")\n",
        "# pixelwise mean absolute error is used as loss\n",
        "\n",
        "# save the best model based on the validation KID metric\n",
        "checkpoint_path = \"checkpoints/diffusion_model.weights.h5\"\n",
        "checkpoint_callback = keras.callbacks.ModelCheckpoint(\n",
        "    filepath=checkpoint_path,\n",
        "    save_weights_only=True,\n",
        "    monitor=\"val_kid\",\n",
        "    mode=\"min\",\n",
        "    save_best_only=True,\n",
        ")\n",
        "\n",
        "# calculate mean and variance of training dataset for normalization\n",
        "model.normalizer.adapt(train_dataset)\n"
      ]
    },
    {
      "cell_type": "markdown",
      "metadata": {
        "id": "FsZYynaz1Z-w"
      },
      "source": []
    },
    {
      "cell_type": "code",
      "execution_count": 15,
      "metadata": {
        "colab": {
          "base_uri": "https://localhost:8080/"
        },
        "id": "8hpARBYx1Z-w",
        "outputId": "f949e0fd-2830-4484-e8fc-819145902b5a"
      },
      "outputs": [
        {
          "name": "stdout",
          "output_type": "stream",
          "text": [
            "Epoch 1/10\n",
            "\u001b[1m2047/2047\u001b[0m \u001b[32m━━━━━━━━━━━━━━━━━━━━\u001b[0m\u001b[37m\u001b[0m \u001b[1m266s\u001b[0m 123ms/step - i_loss: 0.5990 - n_loss: 0.3436 - val_i_loss: 0.7215 - val_kid: 0.8684 - val_n_loss: 0.3628\n",
            "Epoch 2/10\n",
            "\u001b[1m2047/2047\u001b[0m \u001b[32m━━━━━━━━━━━━━━━━━━━━\u001b[0m\u001b[37m\u001b[0m \u001b[1m233s\u001b[0m 113ms/step - i_loss: 0.4848 - n_loss: 0.3098 - val_i_loss: 0.4802 - val_kid: 0.9145 - val_n_loss: 0.3057\n",
            "Epoch 3/10\n",
            "\u001b[1m2047/2047\u001b[0m \u001b[32m━━━━━━━━━━━━━━━━━━━━\u001b[0m\u001b[37m\u001b[0m \u001b[1m231s\u001b[0m 113ms/step - i_loss: 0.4790 - n_loss: 0.3051 - val_i_loss: 0.4630 - val_kid: 0.9431 - val_n_loss: 0.3005\n",
            "Epoch 4/10\n",
            "\u001b[1m2047/2047\u001b[0m \u001b[32m━━━━━━━━━━━━━━━━━━━━\u001b[0m\u001b[37m\u001b[0m \u001b[1m231s\u001b[0m 113ms/step - i_loss: 0.4753 - n_loss: 0.3024 - val_i_loss: 0.4542 - val_kid: 0.8730 - val_n_loss: 0.3018\n",
            "Epoch 5/10\n",
            "\u001b[1m2047/2047\u001b[0m \u001b[32m━━━━━━━━━━━━━━━━━━━━\u001b[0m\u001b[37m\u001b[0m \u001b[1m231s\u001b[0m 113ms/step - i_loss: 0.4720 - n_loss: 0.3029 - val_i_loss: 0.4610 - val_kid: 0.8691 - val_n_loss: 0.2972\n",
            "Epoch 6/10\n",
            "\u001b[1m2047/2047\u001b[0m \u001b[32m━━━━━━━━━━━━━━━━━━━━\u001b[0m\u001b[37m\u001b[0m \u001b[1m232s\u001b[0m 113ms/step - i_loss: 0.4694 - n_loss: 0.3030 - val_i_loss: 0.4584 - val_kid: 0.8595 - val_n_loss: 0.2984\n",
            "Epoch 7/10\n",
            "\u001b[1m2047/2047\u001b[0m \u001b[32m━━━━━━━━━━━━━━━━━━━━\u001b[0m\u001b[37m\u001b[0m \u001b[1m263s\u001b[0m 114ms/step - i_loss: 0.4664 - n_loss: 0.3030 - val_i_loss: 0.4583 - val_kid: 0.8524 - val_n_loss: 0.2976\n",
            "Epoch 8/10\n",
            "\u001b[1m2047/2047\u001b[0m \u001b[32m━━━━━━━━━━━━━━━━━━━━\u001b[0m\u001b[37m\u001b[0m \u001b[1m231s\u001b[0m 113ms/step - i_loss: 0.4674 - n_loss: 0.3009 - val_i_loss: 0.4556 - val_kid: 0.8601 - val_n_loss: 0.2989\n",
            "Epoch 9/10\n",
            "\u001b[1m2047/2047\u001b[0m \u001b[32m━━━━━━━━━━━━━━━━━━━━\u001b[0m\u001b[37m\u001b[0m \u001b[1m264s\u001b[0m 114ms/step - i_loss: 0.4671 - n_loss: 0.3006 - val_i_loss: 0.4586 - val_kid: 0.8861 - val_n_loss: 0.2963\n",
            "Epoch 10/10\n",
            "\u001b[1m2047/2047\u001b[0m \u001b[32m━━━━━━━━━━━━━━━━━━━━\u001b[0m\u001b[37m\u001b[0m \u001b[1m231s\u001b[0m 113ms/step - i_loss: 0.4640 - n_loss: 0.3010 - val_i_loss: 0.4605 - val_kid: 0.8495 - val_n_loss: 0.2956\n"
          ]
        },
        {
          "data": {
            "text/plain": [
              "<keras.src.callbacks.history.History at 0x7f887a969a50>"
            ]
          },
          "execution_count": 15,
          "metadata": {},
          "output_type": "execute_result"
        }
      ],
      "source": [
        "model.fit(\n",
        "    train_dataset,\n",
        "    validation_data=val_dataset,\n",
        "    epochs=num_epochs,\n",
        "    callbacks=[checkpoint_callback],\n",
        ")"
      ]
    },
    {
      "cell_type": "markdown",
      "metadata": {
        "id": "IWGsO_1G1Z-w"
      },
      "source": [
        "## Inference"
      ]
    },
    {
      "cell_type": "code",
      "execution_count": 16,
      "metadata": {
        "colab": {
          "base_uri": "https://localhost:8080/",
          "height": 569
        },
        "id": "78o4HZnp1Z-w",
        "outputId": "2ea1be85-7862-4bcb-bf05-44cbcaf73fe4"
      },
      "outputs": [
        {
          "data": {
            "image/png": "[encoded data removed]",
            "text/plain": [
              "<Figure size 1200x600 with 18 Axes>"
            ]
          },
          "metadata": {},
          "output_type": "display_data"
        }
      ],
      "source": [
        "# load the best model and generate images\n",
        "model.load_weights(checkpoint_path)\n",
        "model.plot_images()"
      ]
    },
    {
      "cell_type": "markdown",
      "metadata": {
        "id": "CWWEZu2dAEhV"
      },
      "source": [
        "# <font color=\"8C3061\" >**Conclusiones**</font>\n",
        "\n",
        "- El modelo no tuvo un buen rendimiento en el proceso de generar nuevas imagenes.\n",
        "- El costo de entrenar el transformer es muy alto, se tomo a consideración una disminución del tamaño de las imagenes,en el tamaño del batch, en el embedding_max_frequency y en el tamaño de épocas, para que se pudiesen realizar experimentos.\n",
        "- Es esperado revisar con más detalle la implementación del Transformer para quitar el ruido. En partícular, la función get_network. También es importante analizar la función sinusoidal_embedding.\n",
        "- Las imagenes presentan una variedad exotica de colores. Rescatando en mucho carácteristicas como color de pétalos, tallos y hojas, pero, no estructuras.\n"
      ]
    }
  ],
  "metadata": {
    "accelerator": "GPU",
    "colab": {
      "gpuType": "T4",
      "provenance": []
    },
    "kernelspec": {
      "display_name": "Python 3",
      "name": "python3"
    },
    "language_info": {
      "codemirror_mode": {
        "name": "ipython",
        "version": 3
      },
      "file_extension": ".py",
      "mimetype": "text/x-python",
      "name": "python",
      "nbconvert_exporter": "python",
      "pygments_lexer": "ipython3",
      "version": "3.10.12"
    }
  },
  "nbformat": 4,
  "nbformat_minor": 0
}
