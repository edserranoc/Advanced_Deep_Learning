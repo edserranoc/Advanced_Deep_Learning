{
 "cells": [
  {
   "cell_type": "markdown",
   "metadata": {},
   "source": [
    "<hr>\n",
    "<div style=\"background-color: lightgray; padding: 20px; color: black;\">\n",
    "<div>\n",
    "<img src=\"https://th.bing.com/th/id/R.3cd1c8dc996c5616cf6e65e20b6bf586?rik=09aaLyk4hfbBiQ&riu=http%3a%2f%2fcidics.uanl.mx%2fwp-content%2fuploads%2f2016%2f09%2fcimat.png&ehk=%2b0brgMUkA2BND22ixwLZheQrrOoYLO3o5cMRqsBOrlY%3d&risl=&pid=ImgRaw&r=0\" style=\"float: right; margin-right: 30px;\" width=\"200\"/> \n",
    "<font size=\"5.5\" color=\"8C3061\"><b>Evaluación de los Modelos</b></font> <br>\n",
    "<font size=\"4.5\" color=\"8C3061\"><b>Aprendizaje de Máquina - Tarea 1 </b></font> \n",
    "</div>\n",
    "<div style=\"text-align: left\">  <br>\n",
    "Edison David Serrano Cárdenas. <br>\n",
    "MSc en Matemáticas Aplicadas <br>\n",
    "CIMAT - Sede Guanajuato <br>\n",
    "</div>\n",
    "\n",
    "</div>\n",
    "<hr>\n"
   ]
  },
  {
   "cell_type": "markdown",
   "metadata": {},
   "source": [
    "Cargar librerías:"
   ]
  },
  {
   "cell_type": "code",
   "execution_count": 93,
   "metadata": {},
   "outputs": [],
   "source": [
    "# load basic libraries\n",
    "import numpy as np\n",
    "import os\n",
    "import pandas as pd\n",
    "import matplotlib.pyplot as plt\n",
    "import seaborn as sns\n",
    "\n",
    "from sklearn.metrics import confusion_matrix\n",
    "from tensorflow.keras.models import load_model\n",
    "from tensorflow.keras.layers import Dense\n",
    "from sklearn.linear_model import Lasso, Ridge, ElasticNet\n",
    "import tensorflow as tf\n",
    "from numpy.linalg import pinv\n",
    "from sklearn.metrics import accuracy_score, recall_score, f1_score"
   ]
  },
  {
   "cell_type": "markdown",
   "metadata": {},
   "source": [
    "Cargar datos:"
   ]
  },
  {
   "cell_type": "code",
   "execution_count": 11,
   "metadata": {},
   "outputs": [],
   "source": [
    "# Directory where the generated data splits are saved\n",
    "generate_data_dir = './generate_data'\n",
    "\n",
    "# File paths for the split datasets\n",
    "val_data_file = os.path.join(generate_data_dir, 'X_val.npy')\n",
    "test_data_file = os.path.join(generate_data_dir, 'X_test.npy')\n",
    "val_labels_file = os.path.join(generate_data_dir, 'y_val.npy')\n",
    "test_labels_file = os.path.join(generate_data_dir, 'y_test.npy')\n",
    "\n",
    "# Load the saved datasets\n",
    "X_val = np.load(val_data_file)\n",
    "X_test = np.load(test_data_file)\n",
    "y_val = np.load(val_labels_file)\n",
    "y_test = np.load(test_labels_file)"
   ]
  },
  {
   "cell_type": "markdown",
   "metadata": {},
   "source": [
    "## <font color=\"8C3061\" >**Cargar los modelos**</font>\n"
   ]
  },
  {
   "cell_type": "markdown",
   "metadata": {},
   "source": [
    "Adicionar clases necesarias para cargar los modelos:"
   ]
  },
  {
   "cell_type": "code",
   "execution_count": 24,
   "metadata": {},
   "outputs": [],
   "source": [
    "class BinaryDense(Dense):\n",
    "    def __init__(self, units, activation=None, use_bias=True, **kwargs):\n",
    "        super(BinaryDense, self).__init__(units, activation=activation, use_bias=use_bias, **kwargs)\n",
    "\n",
    "    def call(self, inputs):\n",
    "        binary_weights = tf.sign(self.kernel)  # Force weights to be binary {-1, 1}\n",
    "        outputs = tf.matmul(inputs, binary_weights)\n",
    "        if self.use_bias:\n",
    "            outputs = tf.nn.bias_add(outputs, self.bias)\n",
    "        if self.activation is not None:\n",
    "            outputs = self.activation(outputs)\n",
    "        return outputs"
   ]
  },
  {
   "cell_type": "code",
   "execution_count": 25,
   "metadata": {},
   "outputs": [],
   "source": [
    "class ELM:\n",
    "    def __init__(self, input_size, hidden_size, output_size):\n",
    "        # Randomly initialize the weights between the input layer and hidden layer\n",
    "        self.input_weights = np.random.randn(input_size, hidden_size) * 0.5\n",
    "        # Randomly initialize the biases for the hidden layer\n",
    "        self.biases = np.random.randn(hidden_size) * 0.5\n",
    "        self.hidden_size = hidden_size\n",
    "        self.output_size = output_size\n",
    "    \n",
    "    # Activation function (sigmoid)\n",
    "    def sigmoid(self, x):\n",
    "        return 1 / (1 + np.exp(-x))\n",
    "    \n",
    "    # Train the ELM by finding the output weights\n",
    "    def train(self, X_train, y_train):\n",
    "        # Compute the hidden layer output\n",
    "        H = self.sigmoid(np.dot(X_train, self.input_weights) + self.biases)\n",
    "        \n",
    "        # Compute the pseudo-inverse of H to get the output weights\n",
    "        H_pseudo_inv = pinv(H)\n",
    "        \n",
    "        # Compute the output weights (beta)\n",
    "        self.output_weights = np.dot(H_pseudo_inv, y_train)\n",
    "    \n",
    "    # Predict on new data\n",
    "    def predict(self, X):\n",
    "        # Compute hidden layer output\n",
    "        H = self.sigmoid(np.dot(X, self.input_weights) + self.biases)\n",
    "        # Compute the final output\n",
    "        output = np.dot(H, self.output_weights)\n",
    "        return output\n",
    "    \n",
    "class ELMWithLasso:\n",
    "    def __init__(self, input_size, hidden_size, output_size, alpha=1.0):\n",
    "        self.input_weights = np.random.randn(input_size, hidden_size) * 0.5\n",
    "        self.biases = np.random.randn(hidden_size) * 0.5\n",
    "        self.hidden_size = hidden_size\n",
    "        self.output_size = output_size\n",
    "        self.alpha = alpha\n",
    "    \n",
    "    def sigmoid(self, x):\n",
    "        return 1 / (1 + np.exp(-x))\n",
    "    \n",
    "    def train(self, X_train, y_train):\n",
    "        # Hidden layer output\n",
    "        H = self.sigmoid(np.dot(X_train, self.input_weights) + self.biases)\n",
    "        \n",
    "        # Reshape y_train to match the expected input for Lasso\n",
    "        y_train = y_train.reshape(-1, self.output_size)\n",
    "        \n",
    "        # Lasso regression for each output class\n",
    "        self.output_weights = np.zeros((self.hidden_size, self.output_size))\n",
    "        for i in range(self.output_size):\n",
    "            lasso = Lasso(alpha=self.alpha)\n",
    "            lasso.fit(H, y_train[:, i])\n",
    "            self.output_weights[:, i] = lasso.coef_\n",
    "    \n",
    "    def predict(self, X):\n",
    "        # Hidden layer output\n",
    "        H = self.sigmoid(np.dot(X, self.input_weights) + self.biases)\n",
    "        \n",
    "        # Final output prediction\n",
    "        output = np.dot(H, self.output_weights)  # Note: no transpose needed here\n",
    "        return output\n",
    "    \n",
    "class ELMWithRidge:\n",
    "    def __init__(self, input_size, hidden_size, output_size, alpha=1.0):\n",
    "        # Randomly initialize the weights between the input layer and hidden layer\n",
    "        self.input_weights = np.random.randn(input_size, hidden_size) * 0.5\n",
    "        # Randomly initialize the biases for the hidden layer\n",
    "        self.biases = np.random.randn(hidden_size) * 0.5\n",
    "        self.hidden_size = hidden_size\n",
    "        self.output_size = output_size\n",
    "        self.alpha = alpha  # Ridge regularization parameter\n",
    "    \n",
    "    # Activation function (sigmoid)\n",
    "    def sigmoid(self, x):\n",
    "        return 1 / (1 + np.exp(-x))\n",
    "    \n",
    "    # Train the ELM using Ridge for regularization\n",
    "    def train(self, X_train, y_train):\n",
    "        # Compute the hidden layer output\n",
    "        H = self.sigmoid(np.dot(X_train, self.input_weights) + self.biases)\n",
    "        \n",
    "        # Reshape y_train to match the expected input for Ridge\n",
    "        y_train = y_train.reshape(-1, self.output_size)\n",
    "        \n",
    "        # Use Ridge regression to compute the output weights with regularization\n",
    "        self.output_weights = np.zeros((self.hidden_size, self.output_size))\n",
    "        for i in range(self.output_size):\n",
    "            ridge = Ridge(alpha=self.alpha)\n",
    "            ridge.fit(H, y_train[:, i])\n",
    "            self.output_weights[:, i] = ridge.coef_\n",
    "            \n",
    "class ELMWithElasticNet:\n",
    "    def __init__(self, input_size, hidden_size, output_size, alpha=1.0, l1_ratio=0.5):\n",
    "        # Randomly initialize the weights between the input layer and hidden layer\n",
    "        self.input_weights = np.random.randn(input_size, hidden_size) * 0.5\n",
    "        # Randomly initialize the biases for the hidden layer\n",
    "        self.biases = np.random.randn(hidden_size) * 0.5\n",
    "        self.hidden_size = hidden_size\n",
    "        self.output_size = output_size\n",
    "        self.alpha = alpha  # Regularization strength\n",
    "        self.l1_ratio = l1_ratio  # Mix ratio for L1 (Lasso) and L2 (Ridge) penalties\n",
    "    \n",
    "    # Activation function (sigmoid)\n",
    "    def sigmoid(self, x):\n",
    "        return 1 / (1 + np.exp(-x))\n",
    "    \n",
    "    # Train the ELM using ElasticNet regularization\n",
    "    def train(self, X_train, y_train):\n",
    "        # Compute the hidden layer output\n",
    "        H = self.sigmoid(np.dot(X_train, self.input_weights) + self.biases)\n",
    "        \n",
    "        # Reshape y_train to match the expected input for ElasticNet\n",
    "        y_train = y_train.reshape(-1, self.output_size)\n",
    "        \n",
    "        # Use ElasticNet regression to compute the output weights with L1/L2 regularization\n",
    "        self.output_weights = np.zeros((self.hidden_size, self.output_size))\n",
    "        for i in range(self.output_size):\n",
    "            elasticnet = ElasticNet(alpha=self.alpha, l1_ratio=self.l1_ratio)\n",
    "            elasticnet.fit(H, y_train[:, i])\n",
    "            self.output_weights[:, i] = elasticnet.coef_"
   ]
  },
  {
   "cell_type": "code",
   "execution_count": 29,
   "metadata": {},
   "outputs": [],
   "source": [
    "# Load the ELM model parameters\n",
    "def load_elm_model(filepath):\n",
    "    data = np.load(filepath)\n",
    "    input_weights = data['input_weights']\n",
    "    biases = data['biases']\n",
    "    output_weights = data['output_weights']\n",
    "    \n",
    "    # Create a new ELM instance with the correct sizes\n",
    "    input_size = input_weights.shape[0]\n",
    "    hidden_size = input_weights.shape[1]\n",
    "    output_size = output_weights.shape[1]\n",
    "    \n",
    "    elm = ELM(input_size=input_size, hidden_size=hidden_size, output_size=output_size)\n",
    "    elm.input_weights = input_weights\n",
    "    elm.biases = biases\n",
    "    elm.output_weights = output_weights\n",
    "    \n",
    "    print(f\"ELM model loaded from {filepath}.npz\")\n",
    "    return elm\n",
    "\n",
    "# Function to convert predictions to one-hot encoded format\n",
    "def convert_predictions_to_onehot(predictions, num_classes):\n",
    "    class_indices = np.argmax(predictions, axis=1)\n",
    "    one_hot_predictions = np.eye(num_classes)[class_indices]\n",
    "    return one_hot_predictions\n"
   ]
  },
  {
   "cell_type": "markdown",
   "metadata": {},
   "source": [
    "Cargar los modelos:"
   ]
  },
  {
   "cell_type": "code",
   "execution_count": 28,
   "metadata": {},
   "outputs": [
    {
     "name": "stdout",
     "output_type": "stream",
     "text": [
      "ELM model loaded from models/elm_model.npz.npz\n",
      "ELM model loaded from models/elm_lasso_model.npz.npz\n",
      "ELM model loaded from models/elm_ridge_model.npz.npz\n",
      "ELM model loaded from models/elm_elasticnet_model.npz.npz\n"
     ]
    }
   ],
   "source": [
    "mlp_model = load_model('models/multilayer_perceptron.keras')\n",
    "mlb_model = load_model('models/ml_binary_weights.keras', custom_objects={'BinaryDense': BinaryDense})\n",
    "elm_loaded = load_elm_model('models/elm_model.npz')\n",
    "elm_lasso = load_elm_model('models/elm_lasso_model.npz')\n",
    "elm_ridge = load_elm_model('models/elm_ridge_model.npz')\n",
    "elm_elasticnet = load_elm_model('models/elm_elasticnet_model.npz')"
   ]
  },
  {
   "cell_type": "markdown",
   "metadata": {},
   "source": [
    "## <font color=\"8C3061\" >**Evaluación de los modelos**</font>"
   ]
  },
  {
   "cell_type": "code",
   "execution_count": 83,
   "metadata": {},
   "outputs": [],
   "source": [
    "# Define a function to evaluate MLP models\n",
    "def evaluate_mlp_model(model, X_test, y_test):\n",
    "    predictions = model.predict(X_test)  # Assuming classification\n",
    "    ss = convert_predictions_to_onehot(predictions,7)\n",
    "    return {\n",
    "        'Accuracy': accuracy_score(y_test, ss),\n",
    "        'Recall': recall_score(y_test, ss, average='weighted'),\n",
    "        'F1 Score': f1_score(y_test, ss, average='weighted')\n",
    "    }\n",
    "    \n",
    "def evaluate_all_model(X,y):\n",
    "    results = {\n",
    "    'MLP': evaluate_mlp_model(mlp_model, X, y),\n",
    "    'MLB': evaluate_mlp_model(mlb_model, X, y),\n",
    "    'ELM': evaluate_mlp_model(elm_loaded, X, y),\n",
    "    'ELM Lasso': evaluate_mlp_model(elm_lasso, X, y),\n",
    "    'ELM Ridge': evaluate_mlp_model(elm_ridge, X, y),\n",
    "    'ELM ElasticNet': evaluate_mlp_model(elm_elasticnet, X, y)\n",
    "    }\n",
    "    \n",
    "    df_scores = pd.DataFrame({\n",
    "    'Model': list(results.keys()),\n",
    "    'Accuracy': [result['Accuracy'] for result in results.values()],\n",
    "    'Recall': [result['Recall'] for result in results.values()],\n",
    "    'F1 Score': [result['F1 Score'] for result in results.values()]\n",
    "    })\n",
    "    \n",
    "    return df_scores"
   ]
  },
  {
   "cell_type": "code",
   "execution_count": 84,
   "metadata": {},
   "outputs": [
    {
     "name": "stdout",
     "output_type": "stream",
     "text": [
      "\u001b[1m219/219\u001b[0m \u001b[32m━━━━━━━━━━━━━━━━━━━━\u001b[0m\u001b[37m\u001b[0m \u001b[1m0s\u001b[0m 1ms/step\n",
      "\u001b[1m219/219\u001b[0m \u001b[32m━━━━━━━━━━━━━━━━━━━━\u001b[0m\u001b[37m\u001b[0m \u001b[1m0s\u001b[0m 1ms/step\n"
     ]
    }
   ],
   "source": [
    "df_scores_test = evaluate_all_model(X_test,y_test)"
   ]
  },
  {
   "cell_type": "markdown",
   "metadata": {},
   "source": [
    "La métrica con mayor valor asociado va a ser el Accuracy por elección primaria de esta."
   ]
  },
  {
   "cell_type": "code",
   "execution_count": 88,
   "metadata": {},
   "outputs": [
    {
     "data": {
      "text/html": [
       "<style type=\"text/css\">\n",
       "#T_51c19_row0_col1, #T_51c19_row0_col2 {\n",
       "  background-color: #860811;\n",
       "  color: #f1f1f1;\n",
       "}\n",
       "#T_51c19_row0_col3 {\n",
       "  background-color: #db2824;\n",
       "  color: #f1f1f1;\n",
       "}\n",
       "#T_51c19_row1_col1, #T_51c19_row1_col2 {\n",
       "  background-color: #fff0e8;\n",
       "  color: #000000;\n",
       "}\n",
       "#T_51c19_row1_col3 {\n",
       "  background-color: #fee1d3;\n",
       "  color: #000000;\n",
       "}\n",
       "#T_51c19_row2_col1, #T_51c19_row2_col2 {\n",
       "  background-color: #c1161b;\n",
       "  color: #f1f1f1;\n",
       "}\n",
       "#T_51c19_row2_col3, #T_51c19_row4_col1, #T_51c19_row4_col2 {\n",
       "  background-color: #67000d;\n",
       "  color: #f1f1f1;\n",
       "}\n",
       "#T_51c19_row3_col1, #T_51c19_row3_col2, #T_51c19_row3_col3, #T_51c19_row5_col1, #T_51c19_row5_col2, #T_51c19_row5_col3 {\n",
       "  background-color: #fff5f0;\n",
       "  color: #000000;\n",
       "}\n",
       "#T_51c19_row4_col3 {\n",
       "  background-color: #fb7858;\n",
       "  color: #f1f1f1;\n",
       "}\n",
       "</style>\n",
       "<table id=\"T_51c19\">\n",
       "  <thead>\n",
       "    <tr>\n",
       "      <th class=\"blank level0\" >&nbsp;</th>\n",
       "      <th id=\"T_51c19_level0_col0\" class=\"col_heading level0 col0\" >Model</th>\n",
       "      <th id=\"T_51c19_level0_col1\" class=\"col_heading level0 col1\" >Accuracy</th>\n",
       "      <th id=\"T_51c19_level0_col2\" class=\"col_heading level0 col2\" >Recall</th>\n",
       "      <th id=\"T_51c19_level0_col3\" class=\"col_heading level0 col3\" >F1 Score</th>\n",
       "    </tr>\n",
       "  </thead>\n",
       "  <tbody>\n",
       "    <tr>\n",
       "      <th id=\"T_51c19_level0_row0\" class=\"row_heading level0 row0\" >0</th>\n",
       "      <td id=\"T_51c19_row0_col0\" class=\"data row0 col0\" >MLP</td>\n",
       "      <td id=\"T_51c19_row0_col1\" class=\"data row0 col1\" >0.243571</td>\n",
       "      <td id=\"T_51c19_row0_col2\" class=\"data row0 col2\" >0.243571</td>\n",
       "      <td id=\"T_51c19_row0_col3\" class=\"data row0 col3\" >0.136039</td>\n",
       "    </tr>\n",
       "    <tr>\n",
       "      <th id=\"T_51c19_level0_row1\" class=\"row_heading level0 row1\" >1</th>\n",
       "      <td id=\"T_51c19_row1_col0\" class=\"data row1 col0\" >MLB</td>\n",
       "      <td id=\"T_51c19_row1_col1\" class=\"data row1 col1\" >0.142286</td>\n",
       "      <td id=\"T_51c19_row1_col2\" class=\"data row1 col2\" >0.142286</td>\n",
       "      <td id=\"T_51c19_row1_col3\" class=\"data row1 col3\" >0.051704</td>\n",
       "    </tr>\n",
       "    <tr>\n",
       "      <th id=\"T_51c19_level0_row2\" class=\"row_heading level0 row2\" >2</th>\n",
       "      <td id=\"T_51c19_row2_col0\" class=\"data row2 col0\" >ELM</td>\n",
       "      <td id=\"T_51c19_row2_col1\" class=\"data row2 col1\" >0.226571</td>\n",
       "      <td id=\"T_51c19_row2_col2\" class=\"data row2 col2\" >0.226571</td>\n",
       "      <td id=\"T_51c19_row2_col3\" class=\"data row2 col3\" >0.180985</td>\n",
       "    </tr>\n",
       "    <tr>\n",
       "      <th id=\"T_51c19_level0_row3\" class=\"row_heading level0 row3\" >3</th>\n",
       "      <td id=\"T_51c19_row3_col0\" class=\"data row3 col0\" >ELM Lasso</td>\n",
       "      <td id=\"T_51c19_row3_col1\" class=\"data row3 col1\" >0.138571</td>\n",
       "      <td id=\"T_51c19_row3_col2\" class=\"data row3 col2\" >0.138571</td>\n",
       "      <td id=\"T_51c19_row3_col3\" class=\"data row3 col3\" >0.033730</td>\n",
       "    </tr>\n",
       "    <tr>\n",
       "      <th id=\"T_51c19_level0_row4\" class=\"row_heading level0 row4\" >4</th>\n",
       "      <td id=\"T_51c19_row4_col0\" class=\"data row4 col0\" >ELM Ridge</td>\n",
       "      <td id=\"T_51c19_row4_col1\" class=\"data row4 col1\" >0.250857</td>\n",
       "      <td id=\"T_51c19_row4_col2\" class=\"data row4 col2\" >0.250857</td>\n",
       "      <td id=\"T_51c19_row4_col3\" class=\"data row4 col3\" >0.100618</td>\n",
       "    </tr>\n",
       "    <tr>\n",
       "      <th id=\"T_51c19_level0_row5\" class=\"row_heading level0 row5\" >5</th>\n",
       "      <td id=\"T_51c19_row5_col0\" class=\"data row5 col0\" >ELM ElasticNet</td>\n",
       "      <td id=\"T_51c19_row5_col1\" class=\"data row5 col1\" >0.138571</td>\n",
       "      <td id=\"T_51c19_row5_col2\" class=\"data row5 col2\" >0.138571</td>\n",
       "      <td id=\"T_51c19_row5_col3\" class=\"data row5 col3\" >0.033730</td>\n",
       "    </tr>\n",
       "  </tbody>\n",
       "</table>\n"
      ],
      "text/plain": [
       "<pandas.io.formats.style.Styler at 0x7fc66ef683a0>"
      ]
     },
     "execution_count": 88,
     "metadata": {},
     "output_type": "execute_result"
    }
   ],
   "source": [
    "df_scores_test.style.background_gradient(cmap='Reds', subset=['Accuracy', 'Recall', 'F1 Score'])"
   ]
  },
  {
   "cell_type": "markdown",
   "metadata": {},
   "source": [
    "El modelo con mejor desempeño es la Máquina de aprendizaje extremo con regularización Ridge sobre la capa de salida."
   ]
  },
  {
   "cell_type": "markdown",
   "metadata": {},
   "source": [
    "## <font color=\"8C3061\" >**Rendimiento del mejor modelo**</font>"
   ]
  },
  {
   "cell_type": "markdown",
   "metadata": {},
   "source": [
    "Evaluación sobre el conjunto de validación:"
   ]
  },
  {
   "cell_type": "code",
   "execution_count": 109,
   "metadata": {},
   "outputs": [
    {
     "name": "stdout",
     "output_type": "stream",
     "text": [
      "\u001b[1m219/219\u001b[0m \u001b[32m━━━━━━━━━━━━━━━━━━━━\u001b[0m\u001b[37m\u001b[0m \u001b[1m0s\u001b[0m 1ms/step\n",
      "Final performance best model:  {'Accuracy': 0.24714285714285714, 'Recall': 0.24714285714285714, 'F1 Score': 0.13799201110755976}\n"
     ]
    }
   ],
   "source": [
    "results_best_model = evaluate_mlp_model(mlp_model,X_val,y_val)\n",
    "print(\"Final performance best model: \",results_best_model)"
   ]
  },
  {
   "cell_type": "markdown",
   "metadata": {},
   "source": [
    "Matrix de Confusión en el conjunto de validación:"
   ]
  },
  {
   "cell_type": "code",
   "execution_count": 112,
   "metadata": {},
   "outputs": [
    {
     "name": "stdout",
     "output_type": "stream",
     "text": [
      "\u001b[1m219/219\u001b[0m \u001b[32m━━━━━━━━━━━━━━━━━━━━\u001b[0m\u001b[37m\u001b[0m \u001b[1m0s\u001b[0m 1ms/step\n"
     ]
    },
    {
     "data": {
      "image/png": "[encoded data removed]",
      "text/plain": [
       "<Figure size 1000x700 with 2 Axes>"
      ]
     },
     "metadata": {},
     "output_type": "display_data"
    }
   ],
   "source": [
    "predictions =mlp_model.predict(X_val)  # Assuming classification\n",
    "y_pred = np.argmax(predictions,axis=1)\n",
    "y_val_labels =  np.argmax(y_val, axis=1)\n",
    "\n",
    "emotions_labels = {0:'anger', 1:'disgust', 2:'fear', 3:'happiness', 4: 'sadness', 5: 'surprise', 6: 'neutral'}\n",
    "\n",
    "# Compute the confusion matrix\n",
    "cm = confusion_matrix(y_val_labels, y_pred)\n",
    "labels = [emotions_labels[i] for i in range(len(emotions_labels))]\n",
    "\n",
    "plt.figure(figsize=(10, 7))\n",
    "sns.heatmap(cm, annot=True, fmt='d', cmap='Blues', xticklabels=labels, yticklabels=labels)\n",
    "plt.title('Confusion Matrix for ELM Ridge Model')\n",
    "plt.xlabel('Predicted Label')\n",
    "plt.ylabel('True Label')\n",
    "plt.show()\n"
   ]
  }
 ],
 "metadata": {
  "kernelspec": {
   "display_name": "mlenv",
   "language": "python",
   "name": "python3"
  },
  "language_info": {
   "codemirror_mode": {
    "name": "ipython",
    "version": 3
   },
   "file_extension": ".py",
   "mimetype": "text/x-python",
   "name": "python",
   "nbconvert_exporter": "python",
   "pygments_lexer": "ipython3",
   "version": "3.10.12"
  }
 },
 "nbformat": 4,
 "nbformat_minor": 2
}
