{
 "cells": [
  {
   "cell_type": "markdown",
   "metadata": {},
   "source": [
    "<hr>\n",
    "<div style=\"background-color: lightgray; padding: 20px; color: black;\">\n",
    "<div>\n",
    "<img src=\"https://th.bing.com/th/id/R.3cd1c8dc996c5616cf6e65e20b6bf586?rik=09aaLyk4hfbBiQ&riu=http%3a%2f%2fcidics.uanl.mx%2fwp-content%2fuploads%2f2016%2f09%2fcimat.png&ehk=%2b0brgMUkA2BND22ixwLZheQrrOoYLO3o5cMRqsBOrlY%3d&risl=&pid=ImgRaw&r=0\" style=\"float: right; margin-right: 30px;\" width=\"200\"/> \n",
    "<font size=\"5.5\" color=\"8C3061\"><b>Only-Encoder Transformer para predicción de series temporales </b></font> <br>\n",
    "<font size=\"4.5\" color=\"8C3061\"><b>Aprendizaje de Máquina II - Tarea 2 </b></font> \n",
    "</div>\n",
    "<div style=\"text-align: left\">  <br>\n",
    "Edison David Serrano Cárdenas. <br>\n",
    "MSc en Matemáticas Aplicadas <br>\n",
    "CIMAT - Sede Guanajuato <br>\n",
    "</div>\n",
    "\n",
    "</div>\n",
    "<hr>\n"
   ]
  },
  {
   "cell_type": "markdown",
   "metadata": {},
   "source": [
    "## <font color=\"8C3061\" >**Cargar Librerías**</font> "
   ]
  },
  {
   "cell_type": "markdown",
   "metadata": {},
   "source": [
    "**Cargar Librerías:**"
   ]
  },
  {
   "cell_type": "code",
   "execution_count": 1,
   "metadata": {},
   "outputs": [
    {
     "data": {
      "text/html": [
       "        <script type=\"text/javascript\">\n",
       "        window.PlotlyConfig = {MathJaxConfig: 'local'};\n",
       "        if (window.MathJax && window.MathJax.Hub && window.MathJax.Hub.Config) {window.MathJax.Hub.Config({SVG: {font: \"STIX-Web\"}});}\n",
       "        if (typeof require !== 'undefined') {\n",
       "        require.undef(\"plotly\");\n",
       "        requirejs.config({\n",
       "            paths: {\n",
       "                'plotly': ['https://cdn.plot.ly/plotly-2.35.2.min']\n",
       "            }\n",
       "        });\n",
       "        require(['plotly'], function(Plotly) {\n",
       "            window._Plotly = Plotly;\n",
       "        });\n",
       "        }\n",
       "        </script>\n",
       "        "
      ]
     },
     "metadata": {},
     "output_type": "display_data"
    }
   ],
   "source": [
    "import numpy as np\n",
    "import pandas as pd\n",
    "import random, math\n",
    "import yfinance as yf\n",
    "\n",
    "import plotly.express as px\n",
    "import plotly.graph_objects as go\n",
    "import matplotlib.pyplot as plt\n",
    "import seaborn as sns\n",
    "import plotly.offline as pyo\n",
    "pyo.init_notebook_mode(connected=True)  # Activar el modo de cuaderno\n",
    "sns.set_theme()\n",
    "\n",
    "import torch\n",
    "from torch import nn, Tensor\n",
    "import torch.nn.functional as F\n",
    "import torch.optim as optim\n",
    "from torch.utils.data import Dataset, DataLoader\n",
    "from torchsummary import summary\n",
    "\n",
    "from sklearn.metrics import mean_squared_error\n",
    "from sklearn.preprocessing import MinMaxScaler\n",
    "from sklearn.metrics import mean_absolute_error\n",
    "from sklearn.metrics import r2_score\n",
    "\n",
    "from seq2seq import Encoder, Decoder, Seq2Seq\n",
    "from seq2seq import train_seq2seq\n"
   ]
  },
  {
   "cell_type": "markdown",
   "metadata": {},
   "source": [
    "**Verificación de CUDA, Fijar la Semilla**"
   ]
  },
  {
   "cell_type": "code",
   "execution_count": 2,
   "metadata": {},
   "outputs": [
    {
     "name": "stdout",
     "output_type": "stream",
     "text": [
      "device is: cuda\n"
     ]
    }
   ],
   "source": [
    "device = torch.device('cuda' if torch.cuda.is_available() else 'cpu')\n",
    "print(\"device is:\",device)\n",
    "\n",
    "SEED = 42\n",
    "def seed_everything(seed):\n",
    "    random.seed(seed)\n",
    "    np.random.seed(seed)\n",
    "    torch.manual_seed(seed)\n",
    "    torch.cuda.manual_seed(seed)\n",
    "    torch.backends.cudnn.deterministic = True\n",
    "\n",
    "seed_everything(SEED)"
   ]
  },
  {
   "cell_type": "markdown",
   "metadata": {},
   "source": [
    "## <font color=\"8C3061\" >**Enunciado del problema**</font> "
   ]
  },
  {
   "cell_type": "markdown",
   "metadata": {},
   "source": [
    "Considere el valor histórico por hora de cripto-monedas de al menos 7 series, incluyendo el bitcoin, obtenga N series de al menos una longitud de T = 100. \n",
    "\n",
    "Luego entrene un modelo para dadas las series S[:T-t] prediga la parte final de cada serie S[T-t:]. Un valor típico es t=5.\n",
    "\n",
    "Los datos descárgelos usando la librería yahoo-finance "
   ]
  },
  {
   "cell_type": "markdown",
   "metadata": {},
   "source": [
    "## <font color=\"8C3061\" >**Preprocesamiento de los Datos**</font> "
   ]
  },
  {
   "cell_type": "markdown",
   "metadata": {},
   "source": [
    "Descarga de los historicos de cada criptomoneda usando la librería yfinance"
   ]
  },
  {
   "cell_type": "code",
   "execution_count": 3,
   "metadata": {},
   "outputs": [
    {
     "name": "stderr",
     "output_type": "stream",
     "text": [
      "[*********************100%***********************]  1 of 1 completed\n",
      "[*********************100%***********************]  1 of 1 completed\n",
      "[*********************100%***********************]  1 of 1 completed\n",
      "[*********************100%***********************]  1 of 1 completed\n",
      "[*********************100%***********************]  1 of 1 completed\n",
      "[*********************100%***********************]  1 of 1 completed\n",
      "[*********************100%***********************]  1 of 1 completed\n"
     ]
    }
   ],
   "source": [
    "# Lista de criptomonedas\n",
    "cryptos = ['BTC-USD', 'ETH-USD', 'BNB-USD', 'XRP-USD', 'ADA-USD', 'SOL-USD', 'DOGE-USD']\n",
    "\n",
    "# Descargar datos por hora\n",
    "def download_crypto_data(tickers, period='1mo', interval='1h'):\n",
    "    data = {}\n",
    "    for ticker in tickers:\n",
    "        crypto_data = yf.download(ticker, period=period, interval=interval)\n",
    "        crypto_data['Volume'] = crypto_data['Volume'].astype(float)\n",
    "        data[ticker] = crypto_data[['Open', 'High', 'Low', 'Close', 'Volume']]\n",
    "        \n",
    "    return data\n",
    "\n",
    "# Descargar los datos de las criptomonedas\n",
    "crypto_data = download_crypto_data(cryptos)"
   ]
  },
  {
   "cell_type": "markdown",
   "metadata": {},
   "source": [
    "Normalización de los datos:"
   ]
  },
  {
   "cell_type": "code",
   "execution_count": 4,
   "metadata": {},
   "outputs": [],
   "source": [
    "def normalize_data_zscore(data):\n",
    "    normalized_data = {}\n",
    "    stats = {}  # Para almacenar la media y la desviación estándar de cada criptomoneda\n",
    "    for ticker, df2 in data.items():\n",
    "        df = df2.copy(deep=True)\n",
    "        means = df[['Open', 'High', 'Low', 'Close', 'Volume']].mean()\n",
    "        stds = df[['Open', 'High', 'Low', 'Close', 'Volume']].std()\n",
    "        stats[ticker] = {'mean': means, 'std': stds}\n",
    "        df.loc[:, ['Open', 'High', 'Low', 'Close', 'Volume']] = (df[['Open', 'High', 'Low', 'Close', 'Volume']] - means) / stds\n",
    "        normalized_data[ticker] = df\n",
    "    return normalized_data, stats\n",
    "\n",
    "def normalize_data_minmax(data_original):\n",
    "    data = data_original.copy()\n",
    "    normalized_data = {}\n",
    "    scalers = {}  # Para almacenar el MinMaxScaler de cada criptomoneda\n",
    "    for ticker, df2 in data.items():\n",
    "        df = df2.copy(deep=True)\n",
    "        scaler = MinMaxScaler()\n",
    "        df.loc[:, ['Open', 'High', 'Low', 'Close', 'Volume']] = scaler.fit_transform(df[['Open', 'High', 'Low', 'Close', 'Volume']])\n",
    "        scalers[ticker] = scaler\n",
    "        normalized_data[ticker] = df\n",
    "    return normalized_data, scalers\n",
    "\n",
    "def normalize_data_log(data_original):\n",
    "    data = data_original.copy()\n",
    "    normalized_data = {}\n",
    "    for ticker, df2 in data.items():\n",
    "        df = df2.copy(deep=True)\n",
    "        df.loc[:, ['Open', 'High', 'Low', 'Close', 'Volume']] = np.log1p(df[['Open', 'High', 'Low', 'Close', 'Volume']])\n",
    "        normalized_data[ticker] = df\n",
    "    return normalized_data"
   ]
  },
  {
   "cell_type": "markdown",
   "metadata": {},
   "source": [
    "Desnormalización de los datos:"
   ]
  },
  {
   "cell_type": "code",
   "execution_count": 5,
   "metadata": {},
   "outputs": [],
   "source": [
    "def denormalize_close_value_zscore(ticker, normalized_value, stats):\n",
    "    mean_close = stats[ticker]['mean']['Close']\n",
    "    std_close = stats[ticker]['std']['Close']\n",
    "    return normalized_value * std_close + mean_close\n",
    "\n",
    "def denormalize_close_value_minmax(ticker, normalized_close_value, scalers):\n",
    "    place_holder = np.zeros((normalized_close_value.shape[0],5))\n",
    "    place_holder[:,3]= normalized_close_value\n",
    "    \n",
    "    return scalers[ticker].inverse_transform(place_holder)[:,3]\n",
    "\n",
    "def denormalize_close_value_log(normalized_value):\n",
    "    return np.expm1(normalized_value)"
   ]
  },
  {
   "cell_type": "markdown",
   "metadata": {},
   "source": [
    "Creación de la librería CryptoDataset:"
   ]
  },
  {
   "cell_type": "code",
   "execution_count": 6,
   "metadata": {},
   "outputs": [],
   "source": [
    "class CryptoDataset(Dataset):\n",
    "    def __init__(self, data, t=5):\n",
    "        self.data = []\n",
    "        self.train = []     \n",
    "        self.test = []\n",
    "        self.t = t\n",
    "        \n",
    "        for ticker, df in data.items():\n",
    "            series = df[['Open', 'High', 'Low', 'Close', 'Volume']].values\n",
    "            l = len(series)\n",
    "            train_size = int(0.8*l)\n",
    "            \n",
    "            for i in range(l - 100):\n",
    "                input_seq = series[i:i+(100-t)]  # Últimos 100-t pasos como entrada\n",
    "                target_seq = series[i+(100-t):i+100, 3]  # Solo el precio de cierre ('Close') como salida\n",
    "                \n",
    "                self.data.append((input_seq, target_seq))\n",
    "                \n",
    "                if (i<train_size):\n",
    "                    self.train.append((input_seq, target_seq))\n",
    "                else:\n",
    "                    self.test.append((input_seq, target_seq))\n",
    "                \n",
    "    def __len__(self):\n",
    "        return len(self.data)\n",
    "\n",
    "    def __getitem__(self, idx):\n",
    "        x, y = self.data[idx]\n",
    "        return torch.FloatTensor(x), torch.FloatTensor(y).unsqueeze(1)  # y debe ser de la forma (batch_size, 1)"
   ]
  },
  {
   "cell_type": "markdown",
   "metadata": {},
   "source": [
    "Datos Preprocesados:"
   ]
  },
  {
   "cell_type": "code",
   "execution_count": 7,
   "metadata": {},
   "outputs": [],
   "source": [
    "# Crear el dataset\n",
    "normalized_crypto_data_zscore, crypto_stats = normalize_data_zscore(crypto_data)\n",
    "normalized_crypto_data_minmax, crypto_scaler = normalize_data_minmax(crypto_data)\n",
    "normalized_crypto_data_log = normalize_data_log(crypto_data)\n",
    "\n",
    "only_enc_model_zscore = CryptoDataset(normalized_crypto_data_zscore)\n",
    "only_enc_model_min_max = CryptoDataset(normalized_crypto_data_minmax)\n",
    "only_enc_model_log = CryptoDataset(normalized_crypto_data_log)\n",
    "\n",
    "# Dividir en training y test\n",
    "train_dataset_zscore, test_dataset_zscore = only_enc_model_zscore.train, only_enc_model_zscore.test\n",
    "train_dataset, test_dataset = only_enc_model_min_max.train, only_enc_model_min_max.test\n",
    "train_dataset_log, test_dataset_log = only_enc_model_log.train, only_enc_model_log.test"
   ]
  },
  {
   "cell_type": "code",
   "execution_count": 8,
   "metadata": {},
   "outputs": [
    {
     "name": "stdout",
     "output_type": "stream",
     "text": [
      "Número de ejemplos de entrenamiento:\t 4032  y  4032\n",
      "Número de ejemplos de test:\t\t 315  y  315\n"
     ]
    }
   ],
   "source": [
    "print(\"Número de ejemplos de entrenamiento:\\t\", len(train_dataset),\" y \", len(train_dataset_log))\n",
    "print(\"Número de ejemplos de test:\\t\\t\", len(test_dataset),\" y \", len(test_dataset_log))"
   ]
  },
  {
   "cell_type": "code",
   "execution_count": 9,
   "metadata": {},
   "outputs": [],
   "source": [
    "# Crear DataLoaders\n",
    "BATCH_SIZE = 32\n",
    "\n",
    "train_loader = DataLoader(train_dataset, batch_size=BATCH_SIZE, shuffle=True, drop_last=True)\n",
    "test_loader = DataLoader(test_dataset, batch_size=BATCH_SIZE, shuffle=False, drop_last=True)"
   ]
  },
  {
   "cell_type": "markdown",
   "metadata": {},
   "source": [
    "## <font color=\"8C3061\" >**Definición del Modelo**</font> "
   ]
  },
  {
   "cell_type": "markdown",
   "metadata": {},
   "source": [
    "### <font color=\"8C3061\" >**Positional Encoding**</font> "
   ]
  },
  {
   "cell_type": "code",
   "execution_count": 10,
   "metadata": {},
   "outputs": [],
   "source": [
    "class PositionalEncoding(nn.Module):\n",
    "    def __init__(self, d_model: int, dropout: float = 0.1, max_len: int = 5000):\n",
    "        super().__init__()\n",
    "        self.dropout = nn.Dropout(p=dropout)\n",
    "        position = torch.arange(max_len).unsqueeze(1)\n",
    "        div_term = torch.exp(torch.arange(0, d_model, 2) * (-math.log(10000.0) / d_model))\n",
    "        pe = torch.zeros(max_len, 1, d_model)\n",
    "        pe[:, 0, 0::2] = torch.sin(position * div_term)\n",
    "        pe[:, 0, 1::2] = torch.cos(position * div_term)\n",
    "        self.register_buffer('pe', pe)\n",
    "        \n",
    "    def forward(self, x: torch.Tensor) -> torch.Tensor:\n",
    "        x = x + self.pe[:x.size(0)]\n",
    "        return self.dropout(x)"
   ]
  },
  {
   "cell_type": "markdown",
   "metadata": {},
   "source": [
    "### <font color=\"8C3061\" >**ForecastingModel**</font> "
   ]
  },
  {
   "cell_type": "markdown",
   "metadata": {},
   "source": [
    "Implementación del modelo (OnlyEncoder Transformer) para Predicción de Series Temporales "
   ]
  },
  {
   "cell_type": "code",
   "execution_count": 11,
   "metadata": {},
   "outputs": [],
   "source": [
    "class ForecastingModel(nn.Module):\n",
    "    def __init__(self, \n",
    "                 seq_len=95,  # Ajuste para tus secuencias de 100 pasos\n",
    "                 pred_len=5,\n",
    "                 embed_size=16,\n",
    "                 nhead=4,\n",
    "                 dim_feedforward=2048,\n",
    "                 dropout=0.1,\n",
    "                 conv1d_emb=True,\n",
    "                 conv1d_kernel_size=3,\n",
    "                 device=\"cuda\"):\n",
    "        super(ForecastingModel, self).__init__()\n",
    "        \n",
    "        # Fijar los parámetros\n",
    "        self.device = device\n",
    "        self.conv1d_emb = conv1d_emb\n",
    "        self.conv1d_kernel_size = conv1d_kernel_size\n",
    "        self.seq_len = seq_len\n",
    "        self.pred_len = pred_len\n",
    "        self.embed_size = embed_size\n",
    "        \n",
    "        # Capa de embedding\n",
    "        if conv1d_emb:\n",
    "            if conv1d_kernel_size % 2 == 0:\n",
    "                raise Exception(\"conv1d_kernel_size must be an odd number to preserve dimensions.\")\n",
    "            self.conv1d_padding = conv1d_kernel_size - 1\n",
    "            self.input_embedding = nn.Conv1d(5, \n",
    "                                             embed_size, \n",
    "                                             kernel_size=conv1d_kernel_size)  # 5 características de entrada\n",
    "        else: \n",
    "            self.input_embedding = nn.Linear(5, \n",
    "                                             embed_size)  # 5 características de entrada\n",
    "\n",
    "        # Capa de positional encoding\n",
    "        self.position_encoder = PositionalEncoding(d_model=embed_size, \n",
    "                                                   dropout=dropout, \n",
    "                                                   max_len=seq_len)\n",
    "        \n",
    "        # Capa de Transformer Encoder\n",
    "        encoder_layer = nn.TransformerEncoderLayer(d_model=embed_size, \n",
    "                                                   nhead=nhead, \n",
    "                                                   dim_feedforward=dim_feedforward, \n",
    "                                                   dropout=dropout,\n",
    "                                                   batch_first=True)\n",
    "        # Se define el número de capas en el modelo de Transformer\n",
    "        self.transformer_encoder = nn.TransformerEncoder(encoder_layer, \n",
    "                                                         num_layers=3)\n",
    "        \n",
    "        # Componente de Regresión\n",
    "        self.linear1 = nn.Linear(seq_len * embed_size, dim_feedforward)\n",
    "        self.linear2 = nn.Linear(dim_feedforward, int(dim_feedforward / 2))\n",
    "        self.linear3 = nn.Linear(int(dim_feedforward / 2), int(dim_feedforward / 4))\n",
    "        self.linear4 = nn.Linear(int(dim_feedforward / 4), self.pred_len)  # Predict 5 values directly\n",
    "\n",
    "\n",
    "        # Elementos básicos\n",
    "        self.relu = nn.ReLU()\n",
    "        self.dropout = nn.Dropout(dropout)\n",
    "        \n",
    "    def forward(self, x: Tensor) -> Tensor:\n",
    "        src_mask = self._generate_square_subsequent_mask()\n",
    "        src_mask = src_mask.to(self.device)\n",
    "        batch_size = x.size(0)\n",
    "        \n",
    "        # Embedding\n",
    "        if self.conv1d_emb:\n",
    "            x = F.pad(x, (0, 0, self.conv1d_padding, 0), \"constant\", -1)\n",
    "            x = self.input_embedding(x.transpose(1, 2))\n",
    "            x = x.transpose(1, 2)\n",
    "        else:\n",
    "            x = self.input_embedding(x)\n",
    "        \n",
    "        # Positional Encoding\n",
    "        x = self.position_encoder(x)\n",
    "        \n",
    "        # Transformer Encoder\n",
    "        x = self.transformer_encoder(x, mask=src_mask)\n",
    "        \n",
    "        # Flatten para la capa de regresión\n",
    "        x = x.reshape(batch_size, -1)\n",
    "        \n",
    "        # Regresión\n",
    "        x = self.linear1(x)\n",
    "        x = self.relu(x)\n",
    "        x = self.dropout(x)\n",
    "        x = self.linear2(x)\n",
    "        x = self.relu(x)\n",
    "        x = self.dropout(x)\n",
    "        x = self.linear3(x)\n",
    "        x = self.relu(x)\n",
    "        x = self.dropout(x)\n",
    "        \n",
    "        # Salida\n",
    "        x = self.linear4(x)     \n",
    "        \n",
    "        return x\n",
    "        \n",
    "    # Function to create source mask\n",
    "    def _generate_square_subsequent_mask(self):\n",
    "        return torch.triu(torch.full((self.seq_len, self.seq_len), float('-inf'), device=self.device), diagonal=1)"
   ]
  },
  {
   "cell_type": "markdown",
   "metadata": {},
   "source": [
    "## <font color=\"8C3061\" >**Entrenamiento del Modelo**</font> "
   ]
  },
  {
   "cell_type": "code",
   "execution_count": 12,
   "metadata": {},
   "outputs": [],
   "source": [
    "# Definir hiperparámetros\n",
    "d_model = 64\n",
    "nhead = 4\n",
    "num_encoder_layers = 3\n",
    "dim_feedforward =  2048\n",
    "dropout = 0.1"
   ]
  },
  {
   "cell_type": "code",
   "execution_count": 13,
   "metadata": {},
   "outputs": [],
   "source": [
    "# Función de entrenamiento\n",
    "def train_only_encoder(model, dataloader, optimizer, criterion, num_epochs=10):\n",
    "    model.train()\n",
    "    for epoch in range(num_epochs):\n",
    "        total_loss = 0\n",
    "        for x_batch, y_batch in dataloader:\n",
    "            optimizer.zero_grad()\n",
    "            \n",
    "            # Convertir los datos a float32 y enviarlos al dispositivo\n",
    "            x_batch = x_batch.to(device).float()\n",
    "            y_batch = y_batch.to(device).float()\n",
    "            \n",
    "            # Forward pass\n",
    "            output = model(x_batch)\n",
    "            \n",
    "            # Calcular la pérdida\n",
    "            loss = criterion(output, y_batch)\n",
    "            total_loss += loss.item()\n",
    "            \n",
    "            # Backward pass y optimización\n",
    "            loss.backward()\n",
    "            optimizer.step()\n",
    "        \n",
    "        print(f'Epoch {epoch+1}/{num_epochs}, Loss: {total_loss/len(dataloader)}')"
   ]
  },
  {
   "cell_type": "markdown",
   "metadata": {},
   "source": [
    "### <font color=\"8C3061\" >**Entrenamiento con Normalización MinMaxScaler**</font> "
   ]
  },
  {
   "cell_type": "code",
   "execution_count": 14,
   "metadata": {},
   "outputs": [
    {
     "name": "stdout",
     "output_type": "stream",
     "text": [
      "Epoch 1/10, Loss: 0.2869770136617479\n",
      "Epoch 2/10, Loss: 0.019744253732145778\n",
      "Epoch 3/10, Loss: 0.01006031322795602\n",
      "Epoch 4/10, Loss: 0.00923590248798035\n",
      "Epoch 5/10, Loss: 0.0097332744496978\n",
      "Epoch 6/10, Loss: 0.007585691953344005\n",
      "Epoch 7/10, Loss: 0.007123799078048222\n",
      "Epoch 8/10, Loss: 0.00757422122646064\n",
      "Epoch 9/10, Loss: 0.007773471504656805\n",
      "Epoch 10/10, Loss: 0.007742570251196859\n"
     ]
    }
   ],
   "source": [
    "# Inicializar el modelo\n",
    "only_encoder_model_min_max = ForecastingModel(seq_len=95,\n",
    "                                        pred_len=5,\n",
    "                                        embed_size=d_model,\n",
    "                                        nhead=nhead,\n",
    "                                        dim_feedforward=dim_feedforward,\n",
    "                                        dropout=dropout,\n",
    "                                        conv1d_emb=True,\n",
    "                                        conv1d_kernel_size=3,\n",
    "                                        device=device)\n",
    "\n",
    "# Mover el modelo al dispositivo\n",
    "only_encoder_model_min_max = only_encoder_model_min_max.to(device)\n",
    "\n",
    "# Definir el optimizador y la función de pérdida\n",
    "optimizer = optim.Adam(only_encoder_model_min_max.parameters(), lr=0.001)\n",
    "criterion = nn.MSELoss()\n",
    "\n",
    "# Entrenar el modelo\n",
    "train_loader = DataLoader(train_dataset, batch_size=32, shuffle=True)\n",
    "train_only_encoder(only_encoder_model_min_max, train_loader, optimizer, criterion, num_epochs=10)"
   ]
  },
  {
   "cell_type": "markdown",
   "metadata": {},
   "source": [
    "### <font color=\"8C3061\" >**Entrenamiento con Normalización LogScale**</font> "
   ]
  },
  {
   "cell_type": "code",
   "execution_count": 15,
   "metadata": {},
   "outputs": [
    {
     "name": "stdout",
     "output_type": "stream",
     "text": [
      "Epoch 1/10, Loss: 6.156117548308675\n",
      "Epoch 2/10, Loss: 0.6389724065860113\n",
      "Epoch 3/10, Loss: 0.4079183455970552\n",
      "Epoch 4/10, Loss: 0.44113040153705885\n",
      "Epoch 5/10, Loss: 0.3853672154484287\n",
      "Epoch 6/10, Loss: 0.43340905471926644\n",
      "Epoch 7/10, Loss: 0.34676383808255196\n",
      "Epoch 8/10, Loss: 0.36015538599282976\n",
      "Epoch 9/10, Loss: 0.2885715601936219\n",
      "Epoch 10/10, Loss: 0.33815511126839926\n"
     ]
    }
   ],
   "source": [
    "only_encoder_model_log = ForecastingModel(seq_len=95,\n",
    "                                        pred_len=5,\n",
    "                                        embed_size=d_model,\n",
    "                                        nhead=nhead,\n",
    "                                        dim_feedforward=dim_feedforward,\n",
    "                                        dropout=dropout,\n",
    "                                        conv1d_emb=True,\n",
    "                                        conv1d_kernel_size=3,\n",
    "                                        device=device)\n",
    "\n",
    "# Mover el modelo al dispositivo\n",
    "only_encoder_model_log = only_encoder_model_log.to(device)\n",
    "\n",
    "# Definir el optimizador y la función de pérdida\n",
    "optimizer = optim.Adam(only_encoder_model_log.parameters(), lr=0.001)\n",
    "criterion = nn.MSELoss()\n",
    "\n",
    "# Entrenar el modelo\n",
    "train_loader = DataLoader(train_dataset_log, batch_size=32, shuffle=True)\n",
    "train_only_encoder(only_encoder_model_log, train_loader, optimizer, criterion, num_epochs=10)"
   ]
  },
  {
   "cell_type": "markdown",
   "metadata": {},
   "source": [
    "### <font color=\"8C3061\" >**Entrenamiento con Normalización Zscore**</font> "
   ]
  },
  {
   "cell_type": "code",
   "execution_count": 16,
   "metadata": {},
   "outputs": [
    {
     "name": "stdout",
     "output_type": "stream",
     "text": [
      "Epoch 1/10, Loss: 0.2483365736192181\n",
      "Epoch 2/10, Loss: 0.08601539985587199\n",
      "Epoch 3/10, Loss: 0.07042444943790398\n",
      "Epoch 4/10, Loss: 0.056120845873559276\n",
      "Epoch 5/10, Loss: 0.05095215104815979\n",
      "Epoch 6/10, Loss: 0.05099749174856004\n",
      "Epoch 7/10, Loss: 0.04832419559418682\n",
      "Epoch 8/10, Loss: 0.05209470813768723\n",
      "Epoch 9/10, Loss: 0.04131156021344756\n",
      "Epoch 10/10, Loss: 0.04239488636986131\n"
     ]
    }
   ],
   "source": [
    "only_enc_model_zscore = ForecastingModel(seq_len=95,\n",
    "                                        pred_len=5,\n",
    "                                        embed_size=d_model,\n",
    "                                        nhead=nhead,\n",
    "                                        dim_feedforward=dim_feedforward,\n",
    "                                        dropout=dropout,\n",
    "                                        conv1d_emb=True,\n",
    "                                        conv1d_kernel_size=3,\n",
    "                                        device=device)\n",
    "\n",
    "# Mover el modelo al dispositivo\n",
    "only_enc_model_zscore = only_enc_model_zscore.to(device)\n",
    "\n",
    "# Definir el optimizador y la función de pérdida\n",
    "optimizer = optim.Adam(only_enc_model_zscore.parameters(), lr=0.001)\n",
    "criterion = nn.MSELoss()\n",
    "\n",
    "# Entrenar el modelo\n",
    "train_loader = DataLoader(train_dataset_zscore, batch_size=32, shuffle=True)\n",
    "train_only_encoder(only_enc_model_zscore, train_loader, optimizer, criterion, num_epochs=10)"
   ]
  },
  {
   "cell_type": "markdown",
   "metadata": {},
   "source": [
    "### <font color=\"8C3061\" >**Entrenamiento del modelo Seq2Seq con Atención**</font> "
   ]
  },
  {
   "cell_type": "code",
   "execution_count": 17,
   "metadata": {},
   "outputs": [],
   "source": [
    "from seq2seq import Encoder, Decoder, Seq2Seq\n",
    "from seq2seq import train_seq2seq"
   ]
  },
  {
   "cell_type": "code",
   "execution_count": 18,
   "metadata": {},
   "outputs": [
    {
     "name": "stderr",
     "output_type": "stream",
     "text": [
      "/media/edserranoc/Data/EDSC_2024/Code/CIMAT/Semestre3/Machine_Learning2/mlenv/lib/python3.10/site-packages/torch/nn/modules/rnn.py:88: UserWarning:\n",
      "\n",
      "dropout option adds dropout after all but last recurrent layer, so non-zero dropout expects num_layers greater than 1, but got dropout=0.35 and num_layers=1\n",
      "\n"
     ]
    },
    {
     "name": "stdout",
     "output_type": "stream",
     "text": [
      "Epoch 1/10, Loss: 0.060207199305295944\n",
      "Epoch 2/10, Loss: 0.027384642511606216\n",
      "Epoch 3/10, Loss: 0.015301431529223919\n",
      "Epoch 4/10, Loss: 0.021142031997442245\n",
      "Epoch 5/10, Loss: 0.016975609585642815\n",
      "Epoch 6/10, Loss: 0.010969390161335468\n",
      "Epoch 7/10, Loss: 0.02579141966998577\n",
      "Epoch 8/10, Loss: 0.018433166667819023\n",
      "Epoch 9/10, Loss: 0.022065868601202965\n",
      "Epoch 10/10, Loss: 0.014606550335884094\n"
     ]
    }
   ],
   "source": [
    "encoder = Encoder(input_size=5, hidden_size=64).to(device)\n",
    "decoder = Decoder(output_size=1, hidden_size=64).to(device)\n",
    "seq2seq_model = Seq2Seq(encoder, decoder, device).to(device)\n",
    "\n",
    "# Optimizer y Loss\n",
    "optimizer = torch.optim.Adam(seq2seq_model.parameters(), lr=0.001)\n",
    "criterion = nn.MSELoss()\n",
    "\n",
    "train_loader = DataLoader(train_dataset_zscore, batch_size=32, shuffle=True)\n",
    "train_seq2seq(seq2seq_model, train_loader, optimizer, criterion, num_epochs=10)"
   ]
  },
  {
   "cell_type": "markdown",
   "metadata": {},
   "source": [
    "## <font color=\"8C3061\" >**Evaluación del Modelo**</font>"
   ]
  },
  {
   "cell_type": "markdown",
   "metadata": {},
   "source": [
    "Las métricas de evaluación son el error cuadrático medio $(MSE)$, el error absoluto medio $(MAE)$ y el coeficiente de determinación $(R^2)$"
   ]
  },
  {
   "cell_type": "code",
   "execution_count": 19,
   "metadata": {},
   "outputs": [],
   "source": [
    "test_loader_zscore = DataLoader(test_dataset_zscore, batch_size=1, shuffle=False)\n",
    "test_loader_log = DataLoader(test_dataset_log, batch_size=1, shuffle=False)\n",
    "test_loader_min_max = DataLoader(test_dataset, batch_size=1, shuffle=False)"
   ]
  },
  {
   "cell_type": "markdown",
   "metadata": {},
   "source": [
    "Evaluación del rendimiento"
   ]
  },
  {
   "cell_type": "code",
   "execution_count": 20,
   "metadata": {},
   "outputs": [],
   "source": [
    "def test_evaluation(model, test_loader,name_model = None):\n",
    "    predicted_close_values = []\n",
    "    true_close_values = []\n",
    "    with torch.no_grad():\n",
    "        for x_batch, y_batch in test_loader:\n",
    "            x_batch = x_batch.to(device).float()\n",
    "            y_batch = y_batch.to(device).float()\n",
    "            \n",
    "            output = model(x_batch)\n",
    "            \n",
    "            predicted_close_values.extend(output.cpu().numpy())\n",
    "            true_close_values.extend(y_batch.cpu().numpy())\n",
    "            \n",
    "    true_close_values = np.array(true_close_values)\n",
    "    predicted_close_values = np.array(predicted_close_values)\n",
    "    \n",
    "    if name_model == \"seq2seq\":\n",
    "        predicted_close_values = predicted_close_values[:,:,0]\n",
    "    \n",
    "    mse = mean_squared_error(true_close_values, predicted_close_values)\n",
    "    mae = mean_absolute_error(true_close_values, predicted_close_values)\n",
    "    r2 = r2_score(true_close_values, predicted_close_values)\n",
    "    \n",
    "    return mse, mae, r2"
   ]
  },
  {
   "cell_type": "code",
   "execution_count": 21,
   "metadata": {},
   "outputs": [],
   "source": [
    "score = pd.DataFrame(columns=[\"Model\",\"MSE\",\"MAE\",\"R2\"])\n",
    "\n",
    "mse, mae, r2 = test_evaluation(only_enc_model_zscore, test_loader_zscore)\n",
    "score.loc[0] = [\"transf_encoder_zscore\",mse,mae,r2]\n",
    "\n",
    "seq2seq_model.eval()\n",
    "mse, mae, r2 = test_evaluation(seq2seq_model, test_loader_zscore,name_model = \"seq2seq\")\n",
    "score.loc[1] = [\"seq2seq\",mse,mae,r2]\n",
    "\n",
    "mse, mae, r2 = test_evaluation(only_encoder_model_min_max, test_loader_min_max)\n",
    "score.loc[2] = [\"transf_encoder_min_max\",mse,mae,r2]\n",
    "\n",
    "mse, mae, r2 = test_evaluation(only_encoder_model_log, test_loader_log)\n",
    "score.loc[3] = [\"transf_encoder_log\",mse,mae,r2]"
   ]
  },
  {
   "cell_type": "markdown",
   "metadata": {},
   "source": [
    "Rendimiento de los modelos"
   ]
  },
  {
   "cell_type": "code",
   "execution_count": 22,
   "metadata": {},
   "outputs": [
    {
     "data": {
      "text/html": [
       "<style type=\"text/css\">\n",
       "#T_6a0b7_row2_col1, #T_6a0b7_row2_col2, #T_6a0b7_row3_col3 {\n",
       "  background-color: red;\n",
       "}\n",
       "</style>\n",
       "<table id=\"T_6a0b7\">\n",
       "  <thead>\n",
       "    <tr>\n",
       "      <th class=\"blank level0\" >&nbsp;</th>\n",
       "      <th id=\"T_6a0b7_level0_col0\" class=\"col_heading level0 col0\" >Model</th>\n",
       "      <th id=\"T_6a0b7_level0_col1\" class=\"col_heading level0 col1\" >MSE</th>\n",
       "      <th id=\"T_6a0b7_level0_col2\" class=\"col_heading level0 col2\" >MAE</th>\n",
       "      <th id=\"T_6a0b7_level0_col3\" class=\"col_heading level0 col3\" >R2</th>\n",
       "    </tr>\n",
       "  </thead>\n",
       "  <tbody>\n",
       "    <tr>\n",
       "      <th id=\"T_6a0b7_level0_row0\" class=\"row_heading level0 row0\" >0</th>\n",
       "      <td id=\"T_6a0b7_row0_col0\" class=\"data row0 col0\" >transf_encoder_zscore</td>\n",
       "      <td id=\"T_6a0b7_row0_col1\" class=\"data row0 col1\" >0.145145</td>\n",
       "      <td id=\"T_6a0b7_row0_col2\" class=\"data row0 col2\" >0.276519</td>\n",
       "      <td id=\"T_6a0b7_row0_col3\" class=\"data row0 col3\" >0.493075</td>\n",
       "    </tr>\n",
       "    <tr>\n",
       "      <th id=\"T_6a0b7_level0_row1\" class=\"row_heading level0 row1\" >1</th>\n",
       "      <td id=\"T_6a0b7_row1_col0\" class=\"data row1 col0\" >seq2seq</td>\n",
       "      <td id=\"T_6a0b7_row1_col1\" class=\"data row1 col1\" >0.062212</td>\n",
       "      <td id=\"T_6a0b7_row1_col2\" class=\"data row1 col2\" >0.176201</td>\n",
       "      <td id=\"T_6a0b7_row1_col3\" class=\"data row1 col3\" >0.782130</td>\n",
       "    </tr>\n",
       "    <tr>\n",
       "      <th id=\"T_6a0b7_level0_row2\" class=\"row_heading level0 row2\" >2</th>\n",
       "      <td id=\"T_6a0b7_row2_col0\" class=\"data row2 col0\" >transf_encoder_min_max</td>\n",
       "      <td id=\"T_6a0b7_row2_col1\" class=\"data row2 col1\" >0.031238</td>\n",
       "      <td id=\"T_6a0b7_row2_col2\" class=\"data row2 col2\" >0.146365</td>\n",
       "      <td id=\"T_6a0b7_row2_col3\" class=\"data row2 col3\" >-1.066178</td>\n",
       "    </tr>\n",
       "    <tr>\n",
       "      <th id=\"T_6a0b7_level0_row3\" class=\"row_heading level0 row3\" >3</th>\n",
       "      <td id=\"T_6a0b7_row3_col0\" class=\"data row3 col0\" >transf_encoder_log</td>\n",
       "      <td id=\"T_6a0b7_row3_col1\" class=\"data row3 col1\" >0.390266</td>\n",
       "      <td id=\"T_6a0b7_row3_col2\" class=\"data row3 col2\" >0.429487</td>\n",
       "      <td id=\"T_6a0b7_row3_col3\" class=\"data row3 col3\" >0.975332</td>\n",
       "    </tr>\n",
       "  </tbody>\n",
       "</table>\n"
      ],
      "text/plain": [
       "<pandas.io.formats.style.Styler at 0x7f1541d3dc90>"
      ]
     },
     "execution_count": 22,
     "metadata": {},
     "output_type": "execute_result"
    }
   ],
   "source": [
    "def highlight_min(s):\n",
    "    return ['background-color: red' if v == s.min() else '' for v in s]\n",
    "\n",
    "def highlight_max(s):\n",
    "    return ['background-color: red' if v == s.max() else '' for v in s]\n",
    "\n",
    "score.style.apply(highlight_min, subset=['MSE', 'MAE']).apply(highlight_max, subset=['R2'])"
   ]
  },
  {
   "cell_type": "markdown",
   "metadata": {},
   "source": [
    "## <font color=\"8C3061\" >**Inferencia de la Criptomoneda BitCoin**</font> "
   ]
  },
  {
   "cell_type": "markdown",
   "metadata": {},
   "source": [
    "Inferir valores a partir de una serie temporal:"
   ]
  },
  {
   "cell_type": "code",
   "execution_count": 23,
   "metadata": {},
   "outputs": [],
   "source": [
    "def inference(model, \n",
    "             data, \n",
    "             crypto_stats =None, \n",
    "             scaler=None, \n",
    "             name_model = None,\n",
    "             coin = \"BTC-USD\"\n",
    "             ):\n",
    "    \n",
    "    predicted_close_values = []\n",
    "    true_close_values = []\n",
    "    with torch.no_grad():\n",
    "        for x_batch, y_batch in data:\n",
    "            x_batch = x_batch.to(device).float()\n",
    "            y_batch = y_batch.to(device).float()\n",
    "            \n",
    "            output = model(x_batch)\n",
    "            \n",
    "            predicted_close_values.extend(output.cpu().numpy())\n",
    "            true_close_values.extend(y_batch.cpu().numpy())\n",
    "            \n",
    "    true_close_values = np.array(true_close_values)\n",
    "    predicted_close_values = np.array(predicted_close_values)\n",
    "    \n",
    "    if name_model == \"seq2seq\":\n",
    "        predicted_close_values = predicted_close_values[:,:,0]\n",
    "    \n",
    "    if crypto_stats:\n",
    "        predicted_close_values = denormalize_close_value_zscore(coin, predicted_close_values, crypto_stats)\n",
    "        true_close_values = denormalize_close_value_zscore(coin, true_close_values, crypto_stats)\n",
    "    elif scaler:\n",
    "        predicted_close_values = denormalize_close_value_minmax(coin, predicted_close_values[0], scaler)\n",
    "        true_close_values = denormalize_close_value_minmax(coin, true_close_values[0].T[0], scaler)\n",
    "    else:\n",
    "        predicted_close_values = denormalize_close_value_log(predicted_close_values)\n",
    "        true_close_values = denormalize_close_value_log(true_close_values)\n",
    "    \n",
    "    return true_close_values, predicted_close_values"
   ]
  },
  {
   "cell_type": "code",
   "execution_count": 24,
   "metadata": {},
   "outputs": [],
   "source": [
    "def inference_results(coin=\"BTC-USD\"):\n",
    "    coin_x_zscore = normalized_crypto_data_zscore[coin][-100:-5][['Open', 'High', 'Low', 'Close', 'Volume']].values\n",
    "    coin_y_zscore = normalized_crypto_data_zscore[coin][-5:][['Close']].values\n",
    "    \n",
    "    coin_x_min_max = normalized_crypto_data_minmax[coin][-100:-5][['Open', 'High', 'Low', 'Close', 'Volume']].values\n",
    "    coin_y_min_max = normalized_crypto_data_minmax[coin][-5:][['Close']].values\n",
    "    \n",
    "    coin_x_log = normalized_crypto_data_log[coin][-100:-5][['Open', 'High', 'Low', 'Close', 'Volume']].values\n",
    "    coin_y_log = normalized_crypto_data_log[coin][-5:][['Close']].values\n",
    "    \n",
    "    coin_data_zscore = DataLoader([(torch.FloatTensor(coin_x_zscore), torch.FloatTensor(coin_y_zscore))], batch_size=1, shuffle=False)\n",
    "    coin_data_min_max = DataLoader([(torch.FloatTensor(coin_x_min_max), torch.FloatTensor(coin_y_min_max))], batch_size=1, shuffle=False)\n",
    "    coin_data_log = DataLoader([(torch.FloatTensor(coin_x_log), torch.FloatTensor(coin_y_log))], batch_size=1, shuffle=False)\n",
    "    \n",
    "    inference_dict = {}\n",
    "    \n",
    "    true_close_values, predicted_close_values = inference(only_enc_model_zscore, coin_data_zscore, crypto_stats=crypto_stats)\n",
    "    inference_dict[\"transf_encoder_zscore\"] = {\"true\": true_close_values, \"predicted\": predicted_close_values}   \n",
    "    \n",
    "    true_close_values, predicted_close_values = inference(seq2seq_model, coin_data_zscore, name_model = \"seq2seq\", crypto_stats=crypto_stats)\n",
    "    inference_dict[\"seq2seq\"] = {\"true\": true_close_values, \"predicted\": predicted_close_values}\n",
    "    \n",
    "    true_close_values, predicted_close_values = inference(only_encoder_model_log, coin_data_log)\n",
    "    inference_dict[\"transf_encoder_log\"] = {\"true\": true_close_values, \"predicted\": predicted_close_values}\n",
    "    \n",
    "    true_close_values, predicted_close_values = inference(only_encoder_model_min_max, coin_data_min_max, scaler=crypto_scaler)\n",
    "    inference_dict[\"transf_encoder_min_max\"] = {\"true\": true_close_values, \"predicted\": predicted_close_values}\n",
    "    \n",
    "    time_data = normalized_crypto_data_zscore[coin][-5:].index\n",
    "    \n",
    "    return inference_dict,time_data"
   ]
  },
  {
   "cell_type": "code",
   "execution_count": 25,
   "metadata": {},
   "outputs": [],
   "source": [
    "inference_dict,time_data = inference_results(coin=\"BTC-USD\")\n",
    "constant_value = crypto_data['BTC-USD']['Close'].iloc[-6]"
   ]
  },
  {
   "cell_type": "code",
   "execution_count": 33,
   "metadata": {},
   "outputs": [
    {
     "data": {
      "application/vnd.plotly.v1+json": {
       "config": {
        "plotlyServerURL": "https://plot.ly"
       },
       "data": [
        {
         "mode": "lines+markers",
         "name": "Valores reales",
         "type": "scatter",
         "x": [
          "2024-10-02T04:00:00+00:00",
          "2024-10-02T05:00:00+00:00",
          "2024-10-02T06:00:00+00:00",
          "2024-10-02T07:00:00+00:00",
          "2024-10-02T08:00:00+00:00"
         ],
         "y": [
          61464.45314601493,
          61459.45699460953,
          61710.2929853501,
          61733.68360627595,
          61631.01562236873
         ]
        },
        {
         "mode": "lines+markers",
         "name": "Predicción transf_encoder_zscore",
         "type": "scatter",
         "x": [
          "2024-10-02T04:00:00+00:00",
          "2024-10-02T05:00:00+00:00",
          "2024-10-02T06:00:00+00:00",
          "2024-10-02T07:00:00+00:00",
          "2024-10-02T08:00:00+00:00"
         ],
         "y": [
          61899.269342110885,
          61940.282509515666,
          61964.025167086,
          61934.43643955879,
          61875.66608301971
         ]
        },
        {
         "mode": "lines+markers",
         "name": "Predicción seq2seq",
         "type": "scatter",
         "x": [
          "2024-10-02T04:00:00+00:00",
          "2024-10-02T05:00:00+00:00",
          "2024-10-02T06:00:00+00:00",
          "2024-10-02T07:00:00+00:00",
          "2024-10-02T08:00:00+00:00"
         ],
         "y": [
          61779.085976287184,
          61836.77433007448,
          61902.68085303372,
          61958.44109017677,
          61998.285276097115
         ]
        },
        {
         "mode": "lines+markers",
         "name": "Predicción transf_encoder_min_max",
         "type": "scatter",
         "x": [
          "2024-10-02T04:00:00+00:00",
          "2024-10-02T05:00:00+00:00",
          "2024-10-02T06:00:00+00:00",
          "2024-10-02T07:00:00+00:00",
          "2024-10-02T08:00:00+00:00"
         ],
         "y": [
          62125.93115230742,
          62270.16233694087,
          63361.69617633614,
          62997.31494693364,
          62022.72052525821
         ]
        },
        {
         "type": "scatter",
         "x": [
          "2024-10-02T04:00:00+00:00",
          "2024-10-02T05:00:00+00:00",
          "2024-10-02T06:00:00+00:00",
          "2024-10-02T07:00:00+00:00",
          "2024-10-02T08:00:00+00:00"
         ],
         "y": [
          61757.02734375,
          61757.02734375,
          61757.02734375,
          61757.02734375,
          61757.02734375
         ]
        }
       ],
       "layout": {
        "template": {
         "data": {
          "bar": [
           {
            "error_x": {
             "color": "#2a3f5f"
            },
            "error_y": {
             "color": "#2a3f5f"
            },
            "marker": {
             "line": {
              "color": "#E5ECF6",
              "width": 0.5
             },
             "pattern": {
              "fillmode": "overlay",
              "size": 10,
              "solidity": 0.2
             }
            },
            "type": "bar"
           }
          ],
          "barpolar": [
           {
            "marker": {
             "line": {
              "color": "#E5ECF6",
              "width": 0.5
             },
             "pattern": {
              "fillmode": "overlay",
              "size": 10,
              "solidity": 0.2
             }
            },
            "type": "barpolar"
           }
          ],
          "carpet": [
           {
            "aaxis": {
             "endlinecolor": "#2a3f5f",
             "gridcolor": "white",
             "linecolor": "white",
             "minorgridcolor": "white",
             "startlinecolor": "#2a3f5f"
            },
            "baxis": {
             "endlinecolor": "#2a3f5f",
             "gridcolor": "white",
             "linecolor": "white",
             "minorgridcolor": "white",
             "startlinecolor": "#2a3f5f"
            },
            "type": "carpet"
           }
          ],
          "choropleth": [
           {
            "colorbar": {
             "outlinewidth": 0,
             "ticks": ""
            },
            "type": "choropleth"
           }
          ],
          "contour": [
           {
            "colorbar": {
             "outlinewidth": 0,
             "ticks": ""
            },
            "colorscale": [
             [
              0,
              "#0d0887"
             ],
             [
              0.1111111111111111,
              "#46039f"
             ],
             [
              0.2222222222222222,
              "#7201a8"
             ],
             [
              0.3333333333333333,
              "#9c179e"
             ],
             [
              0.4444444444444444,
              "#bd3786"
             ],
             [
              0.5555555555555556,
              "#d8576b"
             ],
             [
              0.6666666666666666,
              "#ed7953"
             ],
             [
              0.7777777777777778,
              "#fb9f3a"
             ],
             [
              0.8888888888888888,
              "#fdca26"
             ],
             [
              1,
              "#f0f921"
             ]
            ],
            "type": "contour"
           }
          ],
          "contourcarpet": [
           {
            "colorbar": {
             "outlinewidth": 0,
             "ticks": ""
            },
            "type": "contourcarpet"
           }
          ],
          "heatmap": [
           {
            "colorbar": {
             "outlinewidth": 0,
             "ticks": ""
            },
            "colorscale": [
             [
              0,
              "#0d0887"
             ],
             [
              0.1111111111111111,
              "#46039f"
             ],
             [
              0.2222222222222222,
              "#7201a8"
             ],
             [
              0.3333333333333333,
              "#9c179e"
             ],
             [
              0.4444444444444444,
              "#bd3786"
             ],
             [
              0.5555555555555556,
              "#d8576b"
             ],
             [
              0.6666666666666666,
              "#ed7953"
             ],
             [
              0.7777777777777778,
              "#fb9f3a"
             ],
             [
              0.8888888888888888,
              "#fdca26"
             ],
             [
              1,
              "#f0f921"
             ]
            ],
            "type": "heatmap"
           }
          ],
          "heatmapgl": [
           {
            "colorbar": {
             "outlinewidth": 0,
             "ticks": ""
            },
            "colorscale": [
             [
              0,
              "#0d0887"
             ],
             [
              0.1111111111111111,
              "#46039f"
             ],
             [
              0.2222222222222222,
              "#7201a8"
             ],
             [
              0.3333333333333333,
              "#9c179e"
             ],
             [
              0.4444444444444444,
              "#bd3786"
             ],
             [
              0.5555555555555556,
              "#d8576b"
             ],
             [
              0.6666666666666666,
              "#ed7953"
             ],
             [
              0.7777777777777778,
              "#fb9f3a"
             ],
             [
              0.8888888888888888,
              "#fdca26"
             ],
             [
              1,
              "#f0f921"
             ]
            ],
            "type": "heatmapgl"
           }
          ],
          "histogram": [
           {
            "marker": {
             "pattern": {
              "fillmode": "overlay",
              "size": 10,
              "solidity": 0.2
             }
            },
            "type": "histogram"
           }
          ],
          "histogram2d": [
           {
            "colorbar": {
             "outlinewidth": 0,
             "ticks": ""
            },
            "colorscale": [
             [
              0,
              "#0d0887"
             ],
             [
              0.1111111111111111,
              "#46039f"
             ],
             [
              0.2222222222222222,
              "#7201a8"
             ],
             [
              0.3333333333333333,
              "#9c179e"
             ],
             [
              0.4444444444444444,
              "#bd3786"
             ],
             [
              0.5555555555555556,
              "#d8576b"
             ],
             [
              0.6666666666666666,
              "#ed7953"
             ],
             [
              0.7777777777777778,
              "#fb9f3a"
             ],
             [
              0.8888888888888888,
              "#fdca26"
             ],
             [
              1,
              "#f0f921"
             ]
            ],
            "type": "histogram2d"
           }
          ],
          "histogram2dcontour": [
           {
            "colorbar": {
             "outlinewidth": 0,
             "ticks": ""
            },
            "colorscale": [
             [
              0,
              "#0d0887"
             ],
             [
              0.1111111111111111,
              "#46039f"
             ],
             [
              0.2222222222222222,
              "#7201a8"
             ],
             [
              0.3333333333333333,
              "#9c179e"
             ],
             [
              0.4444444444444444,
              "#bd3786"
             ],
             [
              0.5555555555555556,
              "#d8576b"
             ],
             [
              0.6666666666666666,
              "#ed7953"
             ],
             [
              0.7777777777777778,
              "#fb9f3a"
             ],
             [
              0.8888888888888888,
              "#fdca26"
             ],
             [
              1,
              "#f0f921"
             ]
            ],
            "type": "histogram2dcontour"
           }
          ],
          "mesh3d": [
           {
            "colorbar": {
             "outlinewidth": 0,
             "ticks": ""
            },
            "type": "mesh3d"
           }
          ],
          "parcoords": [
           {
            "line": {
             "colorbar": {
              "outlinewidth": 0,
              "ticks": ""
             }
            },
            "type": "parcoords"
           }
          ],
          "pie": [
           {
            "automargin": true,
            "type": "pie"
           }
          ],
          "scatter": [
           {
            "fillpattern": {
             "fillmode": "overlay",
             "size": 10,
             "solidity": 0.2
            },
            "type": "scatter"
           }
          ],
          "scatter3d": [
           {
            "line": {
             "colorbar": {
              "outlinewidth": 0,
              "ticks": ""
             }
            },
            "marker": {
             "colorbar": {
              "outlinewidth": 0,
              "ticks": ""
             }
            },
            "type": "scatter3d"
           }
          ],
          "scattercarpet": [
           {
            "marker": {
             "colorbar": {
              "outlinewidth": 0,
              "ticks": ""
             }
            },
            "type": "scattercarpet"
           }
          ],
          "scattergeo": [
           {
            "marker": {
             "colorbar": {
              "outlinewidth": 0,
              "ticks": ""
             }
            },
            "type": "scattergeo"
           }
          ],
          "scattergl": [
           {
            "marker": {
             "colorbar": {
              "outlinewidth": 0,
              "ticks": ""
             }
            },
            "type": "scattergl"
           }
          ],
          "scattermapbox": [
           {
            "marker": {
             "colorbar": {
              "outlinewidth": 0,
              "ticks": ""
             }
            },
            "type": "scattermapbox"
           }
          ],
          "scatterpolar": [
           {
            "marker": {
             "colorbar": {
              "outlinewidth": 0,
              "ticks": ""
             }
            },
            "type": "scatterpolar"
           }
          ],
          "scatterpolargl": [
           {
            "marker": {
             "colorbar": {
              "outlinewidth": 0,
              "ticks": ""
             }
            },
            "type": "scatterpolargl"
           }
          ],
          "scatterternary": [
           {
            "marker": {
             "colorbar": {
              "outlinewidth": 0,
              "ticks": ""
             }
            },
            "type": "scatterternary"
           }
          ],
          "surface": [
           {
            "colorbar": {
             "outlinewidth": 0,
             "ticks": ""
            },
            "colorscale": [
             [
              0,
              "#0d0887"
             ],
             [
              0.1111111111111111,
              "#46039f"
             ],
             [
              0.2222222222222222,
              "#7201a8"
             ],
             [
              0.3333333333333333,
              "#9c179e"
             ],
             [
              0.4444444444444444,
              "#bd3786"
             ],
             [
              0.5555555555555556,
              "#d8576b"
             ],
             [
              0.6666666666666666,
              "#ed7953"
             ],
             [
              0.7777777777777778,
              "#fb9f3a"
             ],
             [
              0.8888888888888888,
              "#fdca26"
             ],
             [
              1,
              "#f0f921"
             ]
            ],
            "type": "surface"
           }
          ],
          "table": [
           {
            "cells": {
             "fill": {
              "color": "#EBF0F8"
             },
             "line": {
              "color": "white"
             }
            },
            "header": {
             "fill": {
              "color": "#C8D4E3"
             },
             "line": {
              "color": "white"
             }
            },
            "type": "table"
           }
          ]
         },
         "layout": {
          "annotationdefaults": {
           "arrowcolor": "#2a3f5f",
           "arrowhead": 0,
           "arrowwidth": 1
          },
          "autotypenumbers": "strict",
          "coloraxis": {
           "colorbar": {
            "outlinewidth": 0,
            "ticks": ""
           }
          },
          "colorscale": {
           "diverging": [
            [
             0,
             "#8e0152"
            ],
            [
             0.1,
             "#c51b7d"
            ],
            [
             0.2,
             "#de77ae"
            ],
            [
             0.3,
             "#f1b6da"
            ],
            [
             0.4,
             "#fde0ef"
            ],
            [
             0.5,
             "#f7f7f7"
            ],
            [
             0.6,
             "#e6f5d0"
            ],
            [
             0.7,
             "#b8e186"
            ],
            [
             0.8,
             "#7fbc41"
            ],
            [
             0.9,
             "#4d9221"
            ],
            [
             1,
             "#276419"
            ]
           ],
           "sequential": [
            [
             0,
             "#0d0887"
            ],
            [
             0.1111111111111111,
             "#46039f"
            ],
            [
             0.2222222222222222,
             "#7201a8"
            ],
            [
             0.3333333333333333,
             "#9c179e"
            ],
            [
             0.4444444444444444,
             "#bd3786"
            ],
            [
             0.5555555555555556,
             "#d8576b"
            ],
            [
             0.6666666666666666,
             "#ed7953"
            ],
            [
             0.7777777777777778,
             "#fb9f3a"
            ],
            [
             0.8888888888888888,
             "#fdca26"
            ],
            [
             1,
             "#f0f921"
            ]
           ],
           "sequentialminus": [
            [
             0,
             "#0d0887"
            ],
            [
             0.1111111111111111,
             "#46039f"
            ],
            [
             0.2222222222222222,
             "#7201a8"
            ],
            [
             0.3333333333333333,
             "#9c179e"
            ],
            [
             0.4444444444444444,
             "#bd3786"
            ],
            [
             0.5555555555555556,
             "#d8576b"
            ],
            [
             0.6666666666666666,
             "#ed7953"
            ],
            [
             0.7777777777777778,
             "#fb9f3a"
            ],
            [
             0.8888888888888888,
             "#fdca26"
            ],
            [
             1,
             "#f0f921"
            ]
           ]
          },
          "colorway": [
           "#636efa",
           "#EF553B",
           "#00cc96",
           "#ab63fa",
           "#FFA15A",
           "#19d3f3",
           "#FF6692",
           "#B6E880",
           "#FF97FF",
           "#FECB52"
          ],
          "font": {
           "color": "#2a3f5f"
          },
          "geo": {
           "bgcolor": "white",
           "lakecolor": "white",
           "landcolor": "#E5ECF6",
           "showlakes": true,
           "showland": true,
           "subunitcolor": "white"
          },
          "hoverlabel": {
           "align": "left"
          },
          "hovermode": "closest",
          "mapbox": {
           "style": "light"
          },
          "paper_bgcolor": "white",
          "plot_bgcolor": "#E5ECF6",
          "polar": {
           "angularaxis": {
            "gridcolor": "white",
            "linecolor": "white",
            "ticks": ""
           },
           "bgcolor": "#E5ECF6",
           "radialaxis": {
            "gridcolor": "white",
            "linecolor": "white",
            "ticks": ""
           }
          },
          "scene": {
           "xaxis": {
            "backgroundcolor": "#E5ECF6",
            "gridcolor": "white",
            "gridwidth": 2,
            "linecolor": "white",
            "showbackground": true,
            "ticks": "",
            "zerolinecolor": "white"
           },
           "yaxis": {
            "backgroundcolor": "#E5ECF6",
            "gridcolor": "white",
            "gridwidth": 2,
            "linecolor": "white",
            "showbackground": true,
            "ticks": "",
            "zerolinecolor": "white"
           },
           "zaxis": {
            "backgroundcolor": "#E5ECF6",
            "gridcolor": "white",
            "gridwidth": 2,
            "linecolor": "white",
            "showbackground": true,
            "ticks": "",
            "zerolinecolor": "white"
           }
          },
          "shapedefaults": {
           "line": {
            "color": "#2a3f5f"
           }
          },
          "ternary": {
           "aaxis": {
            "gridcolor": "white",
            "linecolor": "white",
            "ticks": ""
           },
           "baxis": {
            "gridcolor": "white",
            "linecolor": "white",
            "ticks": ""
           },
           "bgcolor": "#E5ECF6",
           "caxis": {
            "gridcolor": "white",
            "linecolor": "white",
            "ticks": ""
           }
          },
          "title": {
           "x": 0.05
          },
          "xaxis": {
           "automargin": true,
           "gridcolor": "white",
           "linecolor": "white",
           "ticks": "",
           "title": {
            "standoff": 15
           },
           "zerolinecolor": "white",
           "zerolinewidth": 2
          },
          "yaxis": {
           "automargin": true,
           "gridcolor": "white",
           "linecolor": "white",
           "ticks": "",
           "title": {
            "standoff": 15
           },
           "zerolinecolor": "white",
           "zerolinewidth": 2
          }
         }
        },
        "title": {
         "text": "Predicción de precios de cierre de Bitcoin"
        },
        "xaxis": {
         "title": {
          "text": "Tiempo"
         }
        },
        "yaxis": {
         "title": {
          "text": "Precio de cierre"
         }
        }
       }
      },
      "text/html": [
       "<div>                            <div id=\"c44e2f4b-bd77-479b-b26a-05dfea067e22\" class=\"plotly-graph-div\" style=\"height:525px; width:100%;\"></div>            <script type=\"text/javascript\">                require([\"plotly\"], function(Plotly) {                    window.PLOTLYENV=window.PLOTLYENV || {};                                    if (document.getElementById(\"c44e2f4b-bd77-479b-b26a-05dfea067e22\")) {                    Plotly.newPlot(                        \"c44e2f4b-bd77-479b-b26a-05dfea067e22\",                        [{\"mode\":\"lines+markers\",\"name\":\"Valores reales\",\"x\":[\"2024-10-02T04:00:00+00:00\",\"2024-10-02T05:00:00+00:00\",\"2024-10-02T06:00:00+00:00\",\"2024-10-02T07:00:00+00:00\",\"2024-10-02T08:00:00+00:00\"],\"y\":[61464.45314601493,61459.45699460953,61710.2929853501,61733.68360627595,61631.01562236873],\"type\":\"scatter\"},{\"mode\":\"lines+markers\",\"name\":\"Predicci\\u00f3n transf_encoder_zscore\",\"x\":[\"2024-10-02T04:00:00+00:00\",\"2024-10-02T05:00:00+00:00\",\"2024-10-02T06:00:00+00:00\",\"2024-10-02T07:00:00+00:00\",\"2024-10-02T08:00:00+00:00\"],\"y\":[61899.269342110885,61940.282509515666,61964.025167086,61934.43643955879,61875.66608301971],\"type\":\"scatter\"},{\"mode\":\"lines+markers\",\"name\":\"Predicci\\u00f3n seq2seq\",\"x\":[\"2024-10-02T04:00:00+00:00\",\"2024-10-02T05:00:00+00:00\",\"2024-10-02T06:00:00+00:00\",\"2024-10-02T07:00:00+00:00\",\"2024-10-02T08:00:00+00:00\"],\"y\":[61779.085976287184,61836.77433007448,61902.68085303372,61958.44109017677,61998.285276097115],\"type\":\"scatter\"},{\"mode\":\"lines+markers\",\"name\":\"Predicci\\u00f3n transf_encoder_min_max\",\"x\":[\"2024-10-02T04:00:00+00:00\",\"2024-10-02T05:00:00+00:00\",\"2024-10-02T06:00:00+00:00\",\"2024-10-02T07:00:00+00:00\",\"2024-10-02T08:00:00+00:00\"],\"y\":[62125.93115230742,62270.16233694087,63361.69617633614,62997.31494693364,62022.72052525821],\"type\":\"scatter\"},{\"x\":[\"2024-10-02T04:00:00+00:00\",\"2024-10-02T05:00:00+00:00\",\"2024-10-02T06:00:00+00:00\",\"2024-10-02T07:00:00+00:00\",\"2024-10-02T08:00:00+00:00\"],\"y\":[61757.02734375,61757.02734375,61757.02734375,61757.02734375,61757.02734375],\"type\":\"scatter\"}],                        {\"template\":{\"data\":{\"histogram2dcontour\":[{\"type\":\"histogram2dcontour\",\"colorbar\":{\"outlinewidth\":0,\"ticks\":\"\"},\"colorscale\":[[0.0,\"#0d0887\"],[0.1111111111111111,\"#46039f\"],[0.2222222222222222,\"#7201a8\"],[0.3333333333333333,\"#9c179e\"],[0.4444444444444444,\"#bd3786\"],[0.5555555555555556,\"#d8576b\"],[0.6666666666666666,\"#ed7953\"],[0.7777777777777778,\"#fb9f3a\"],[0.8888888888888888,\"#fdca26\"],[1.0,\"#f0f921\"]]}],\"choropleth\":[{\"type\":\"choropleth\",\"colorbar\":{\"outlinewidth\":0,\"ticks\":\"\"}}],\"histogram2d\":[{\"type\":\"histogram2d\",\"colorbar\":{\"outlinewidth\":0,\"ticks\":\"\"},\"colorscale\":[[0.0,\"#0d0887\"],[0.1111111111111111,\"#46039f\"],[0.2222222222222222,\"#7201a8\"],[0.3333333333333333,\"#9c179e\"],[0.4444444444444444,\"#bd3786\"],[0.5555555555555556,\"#d8576b\"],[0.6666666666666666,\"#ed7953\"],[0.7777777777777778,\"#fb9f3a\"],[0.8888888888888888,\"#fdca26\"],[1.0,\"#f0f921\"]]}],\"heatmap\":[{\"type\":\"heatmap\",\"colorbar\":{\"outlinewidth\":0,\"ticks\":\"\"},\"colorscale\":[[0.0,\"#0d0887\"],[0.1111111111111111,\"#46039f\"],[0.2222222222222222,\"#7201a8\"],[0.3333333333333333,\"#9c179e\"],[0.4444444444444444,\"#bd3786\"],[0.5555555555555556,\"#d8576b\"],[0.6666666666666666,\"#ed7953\"],[0.7777777777777778,\"#fb9f3a\"],[0.8888888888888888,\"#fdca26\"],[1.0,\"#f0f921\"]]}],\"heatmapgl\":[{\"type\":\"heatmapgl\",\"colorbar\":{\"outlinewidth\":0,\"ticks\":\"\"},\"colorscale\":[[0.0,\"#0d0887\"],[0.1111111111111111,\"#46039f\"],[0.2222222222222222,\"#7201a8\"],[0.3333333333333333,\"#9c179e\"],[0.4444444444444444,\"#bd3786\"],[0.5555555555555556,\"#d8576b\"],[0.6666666666666666,\"#ed7953\"],[0.7777777777777778,\"#fb9f3a\"],[0.8888888888888888,\"#fdca26\"],[1.0,\"#f0f921\"]]}],\"contourcarpet\":[{\"type\":\"contourcarpet\",\"colorbar\":{\"outlinewidth\":0,\"ticks\":\"\"}}],\"contour\":[{\"type\":\"contour\",\"colorbar\":{\"outlinewidth\":0,\"ticks\":\"\"},\"colorscale\":[[0.0,\"#0d0887\"],[0.1111111111111111,\"#46039f\"],[0.2222222222222222,\"#7201a8\"],[0.3333333333333333,\"#9c179e\"],[0.4444444444444444,\"#bd3786\"],[0.5555555555555556,\"#d8576b\"],[0.6666666666666666,\"#ed7953\"],[0.7777777777777778,\"#fb9f3a\"],[0.8888888888888888,\"#fdca26\"],[1.0,\"#f0f921\"]]}],\"surface\":[{\"type\":\"surface\",\"colorbar\":{\"outlinewidth\":0,\"ticks\":\"\"},\"colorscale\":[[0.0,\"#0d0887\"],[0.1111111111111111,\"#46039f\"],[0.2222222222222222,\"#7201a8\"],[0.3333333333333333,\"#9c179e\"],[0.4444444444444444,\"#bd3786\"],[0.5555555555555556,\"#d8576b\"],[0.6666666666666666,\"#ed7953\"],[0.7777777777777778,\"#fb9f3a\"],[0.8888888888888888,\"#fdca26\"],[1.0,\"#f0f921\"]]}],\"mesh3d\":[{\"type\":\"mesh3d\",\"colorbar\":{\"outlinewidth\":0,\"ticks\":\"\"}}],\"scatter\":[{\"fillpattern\":{\"fillmode\":\"overlay\",\"size\":10,\"solidity\":0.2},\"type\":\"scatter\"}],\"parcoords\":[{\"type\":\"parcoords\",\"line\":{\"colorbar\":{\"outlinewidth\":0,\"ticks\":\"\"}}}],\"scatterpolargl\":[{\"type\":\"scatterpolargl\",\"marker\":{\"colorbar\":{\"outlinewidth\":0,\"ticks\":\"\"}}}],\"bar\":[{\"error_x\":{\"color\":\"#2a3f5f\"},\"error_y\":{\"color\":\"#2a3f5f\"},\"marker\":{\"line\":{\"color\":\"#E5ECF6\",\"width\":0.5},\"pattern\":{\"fillmode\":\"overlay\",\"size\":10,\"solidity\":0.2}},\"type\":\"bar\"}],\"scattergeo\":[{\"type\":\"scattergeo\",\"marker\":{\"colorbar\":{\"outlinewidth\":0,\"ticks\":\"\"}}}],\"scatterpolar\":[{\"type\":\"scatterpolar\",\"marker\":{\"colorbar\":{\"outlinewidth\":0,\"ticks\":\"\"}}}],\"histogram\":[{\"marker\":{\"pattern\":{\"fillmode\":\"overlay\",\"size\":10,\"solidity\":0.2}},\"type\":\"histogram\"}],\"scattergl\":[{\"type\":\"scattergl\",\"marker\":{\"colorbar\":{\"outlinewidth\":0,\"ticks\":\"\"}}}],\"scatter3d\":[{\"type\":\"scatter3d\",\"line\":{\"colorbar\":{\"outlinewidth\":0,\"ticks\":\"\"}},\"marker\":{\"colorbar\":{\"outlinewidth\":0,\"ticks\":\"\"}}}],\"scattermapbox\":[{\"type\":\"scattermapbox\",\"marker\":{\"colorbar\":{\"outlinewidth\":0,\"ticks\":\"\"}}}],\"scatterternary\":[{\"type\":\"scatterternary\",\"marker\":{\"colorbar\":{\"outlinewidth\":0,\"ticks\":\"\"}}}],\"scattercarpet\":[{\"type\":\"scattercarpet\",\"marker\":{\"colorbar\":{\"outlinewidth\":0,\"ticks\":\"\"}}}],\"carpet\":[{\"aaxis\":{\"endlinecolor\":\"#2a3f5f\",\"gridcolor\":\"white\",\"linecolor\":\"white\",\"minorgridcolor\":\"white\",\"startlinecolor\":\"#2a3f5f\"},\"baxis\":{\"endlinecolor\":\"#2a3f5f\",\"gridcolor\":\"white\",\"linecolor\":\"white\",\"minorgridcolor\":\"white\",\"startlinecolor\":\"#2a3f5f\"},\"type\":\"carpet\"}],\"table\":[{\"cells\":{\"fill\":{\"color\":\"#EBF0F8\"},\"line\":{\"color\":\"white\"}},\"header\":{\"fill\":{\"color\":\"#C8D4E3\"},\"line\":{\"color\":\"white\"}},\"type\":\"table\"}],\"barpolar\":[{\"marker\":{\"line\":{\"color\":\"#E5ECF6\",\"width\":0.5},\"pattern\":{\"fillmode\":\"overlay\",\"size\":10,\"solidity\":0.2}},\"type\":\"barpolar\"}],\"pie\":[{\"automargin\":true,\"type\":\"pie\"}]},\"layout\":{\"autotypenumbers\":\"strict\",\"colorway\":[\"#636efa\",\"#EF553B\",\"#00cc96\",\"#ab63fa\",\"#FFA15A\",\"#19d3f3\",\"#FF6692\",\"#B6E880\",\"#FF97FF\",\"#FECB52\"],\"font\":{\"color\":\"#2a3f5f\"},\"hovermode\":\"closest\",\"hoverlabel\":{\"align\":\"left\"},\"paper_bgcolor\":\"white\",\"plot_bgcolor\":\"#E5ECF6\",\"polar\":{\"bgcolor\":\"#E5ECF6\",\"angularaxis\":{\"gridcolor\":\"white\",\"linecolor\":\"white\",\"ticks\":\"\"},\"radialaxis\":{\"gridcolor\":\"white\",\"linecolor\":\"white\",\"ticks\":\"\"}},\"ternary\":{\"bgcolor\":\"#E5ECF6\",\"aaxis\":{\"gridcolor\":\"white\",\"linecolor\":\"white\",\"ticks\":\"\"},\"baxis\":{\"gridcolor\":\"white\",\"linecolor\":\"white\",\"ticks\":\"\"},\"caxis\":{\"gridcolor\":\"white\",\"linecolor\":\"white\",\"ticks\":\"\"}},\"coloraxis\":{\"colorbar\":{\"outlinewidth\":0,\"ticks\":\"\"}},\"colorscale\":{\"sequential\":[[0.0,\"#0d0887\"],[0.1111111111111111,\"#46039f\"],[0.2222222222222222,\"#7201a8\"],[0.3333333333333333,\"#9c179e\"],[0.4444444444444444,\"#bd3786\"],[0.5555555555555556,\"#d8576b\"],[0.6666666666666666,\"#ed7953\"],[0.7777777777777778,\"#fb9f3a\"],[0.8888888888888888,\"#fdca26\"],[1.0,\"#f0f921\"]],\"sequentialminus\":[[0.0,\"#0d0887\"],[0.1111111111111111,\"#46039f\"],[0.2222222222222222,\"#7201a8\"],[0.3333333333333333,\"#9c179e\"],[0.4444444444444444,\"#bd3786\"],[0.5555555555555556,\"#d8576b\"],[0.6666666666666666,\"#ed7953\"],[0.7777777777777778,\"#fb9f3a\"],[0.8888888888888888,\"#fdca26\"],[1.0,\"#f0f921\"]],\"diverging\":[[0,\"#8e0152\"],[0.1,\"#c51b7d\"],[0.2,\"#de77ae\"],[0.3,\"#f1b6da\"],[0.4,\"#fde0ef\"],[0.5,\"#f7f7f7\"],[0.6,\"#e6f5d0\"],[0.7,\"#b8e186\"],[0.8,\"#7fbc41\"],[0.9,\"#4d9221\"],[1,\"#276419\"]]},\"xaxis\":{\"gridcolor\":\"white\",\"linecolor\":\"white\",\"ticks\":\"\",\"title\":{\"standoff\":15},\"zerolinecolor\":\"white\",\"automargin\":true,\"zerolinewidth\":2},\"yaxis\":{\"gridcolor\":\"white\",\"linecolor\":\"white\",\"ticks\":\"\",\"title\":{\"standoff\":15},\"zerolinecolor\":\"white\",\"automargin\":true,\"zerolinewidth\":2},\"scene\":{\"xaxis\":{\"backgroundcolor\":\"#E5ECF6\",\"gridcolor\":\"white\",\"linecolor\":\"white\",\"showbackground\":true,\"ticks\":\"\",\"zerolinecolor\":\"white\",\"gridwidth\":2},\"yaxis\":{\"backgroundcolor\":\"#E5ECF6\",\"gridcolor\":\"white\",\"linecolor\":\"white\",\"showbackground\":true,\"ticks\":\"\",\"zerolinecolor\":\"white\",\"gridwidth\":2},\"zaxis\":{\"backgroundcolor\":\"#E5ECF6\",\"gridcolor\":\"white\",\"linecolor\":\"white\",\"showbackground\":true,\"ticks\":\"\",\"zerolinecolor\":\"white\",\"gridwidth\":2}},\"shapedefaults\":{\"line\":{\"color\":\"#2a3f5f\"}},\"annotationdefaults\":{\"arrowcolor\":\"#2a3f5f\",\"arrowhead\":0,\"arrowwidth\":1},\"geo\":{\"bgcolor\":\"white\",\"landcolor\":\"#E5ECF6\",\"subunitcolor\":\"white\",\"showland\":true,\"showlakes\":true,\"lakecolor\":\"white\"},\"title\":{\"x\":0.05},\"mapbox\":{\"style\":\"light\"}}},\"title\":{\"text\":\"Predicci\\u00f3n de precios de cierre de Bitcoin\"},\"xaxis\":{\"title\":{\"text\":\"Tiempo\"}},\"yaxis\":{\"title\":{\"text\":\"Precio de cierre\"}}},                        {\"responsive\": true}                    ).then(function(){\n",
       "                            \n",
       "var gd = document.getElementById('c44e2f4b-bd77-479b-b26a-05dfea067e22');\n",
       "var x = new MutationObserver(function (mutations, observer) {{\n",
       "        var display = window.getComputedStyle(gd).display;\n",
       "        if (!display || display === 'none') {{\n",
       "            console.log([gd, 'removed!']);\n",
       "            Plotly.purge(gd);\n",
       "            observer.disconnect();\n",
       "        }}\n",
       "}});\n",
       "\n",
       "// Listen for the removal of the full notebook cells\n",
       "var notebookContainer = gd.closest('#notebook-container');\n",
       "if (notebookContainer) {{\n",
       "    x.observe(notebookContainer, {childList: true});\n",
       "}}\n",
       "\n",
       "// Listen for the clearing of the current output cell\n",
       "var outputEl = gd.closest('.output');\n",
       "if (outputEl) {{\n",
       "    x.observe(outputEl, {childList: true});\n",
       "}}\n",
       "\n",
       "                        })                };                });            </script>        </div>"
      ]
     },
     "metadata": {},
     "output_type": "display_data"
    }
   ],
   "source": [
    "fig = go.Figure()\n",
    "\n",
    "# Add real time series trace\n",
    "fig.add_trace(go.Scatter(x=time_data, y=inference_dict[\"transf_encoder_zscore\"][\"true\"].flatten(), \n",
    "                         mode='lines+markers', name='Valores reales'))\n",
    "\n",
    "# Add predicted values trace for each model\n",
    "fig.add_trace(go.Scatter(x=time_data, y=inference_dict[\"transf_encoder_zscore\"][\"predicted\"].flatten(), \n",
    "                         mode='lines+markers', name='Predicción transf_encoder_zscore'))\n",
    "\n",
    "fig.add_trace(go.Scatter(x=time_data, y=inference_dict[\"seq2seq\"][\"predicted\"].flatten(), \n",
    "                         mode='lines+markers', name='Predicción seq2seq'))\n",
    "\n",
    "#fig.add_trace(go.Scatter(x=time_data, y=inference_dict[\"transf_encoder_log\"][\"predicted\"].flatten(), #\n",
    "#                         mode='lines+markers', name='Predicción transf_encoder_log'))\n",
    "\n",
    "fig.add_trace(go.Scatter(x=time_data, y=inference_dict[\"transf_encoder_min_max\"][\"predicted\"].flatten(), \n",
    "                         mode='lines+markers', name='Predicción transf_encoder_min_max'))\n",
    "\n",
    "fig.add_trace(go.Scatter(x=time_data, y =constant_value*np.ones(5)))\n",
    "\n",
    "\n",
    "# Update the layout for clarity\n",
    "fig.update_layout(title='Predicción de precios de cierre de Bitcoin',\n",
    "                  xaxis_title='Tiempo',\n",
    "                  yaxis_title='Precio de cierre')\n",
    "\n",
    "\n",
    "# Display the plot\n",
    "fig.show()"
   ]
  },
  {
   "cell_type": "markdown",
   "metadata": {},
   "source": [
    "# <font color=\"8C3061\" >**Conclusión**</font> "
   ]
  },
  {
   "cell_type": "markdown",
   "metadata": {},
   "source": [
    "> - Entre los modelos implementados el que tuvo mejor desempeño fue el Encoder con datos normalizados con MinMaxEscaler. Este modelo pudo describir de mejor manera el comportamiento de la moneda en la inferencia analizada.\n",
    "> - El modelo Seq2Seq tuvo en la inferencia analizada tuvo mejor desempeño.\n",
    "> - El modelo con normalización logaritmica fue el que tuvo peor desempeño por mucho.\n",
    "> - El modelo Seq2Seq no le ganó al modelo que mantiene su predicción constante."
   ]
  },
  {
   "cell_type": "code",
   "execution_count": 27,
   "metadata": {},
   "outputs": [
    {
     "name": "stdout",
     "output_type": "stream",
     "text": [
      "MSE seq2seq:\t  92755.64125570907\n",
      "MSE constante:\t  38551.151625536106\n"
     ]
    }
   ],
   "source": [
    "s2s = inference_dict['seq2seq'][\"predicted\"].flatten()\n",
    "cons = constant_value*np.ones(5)\n",
    "real = inference_dict['transf_encoder_zscore'][\"true\"].flatten()\n",
    "\n",
    "print(\"MSE seq2seq:\\t \", mean_squared_error(real, s2s))\n",
    "print(\"MSE constante:\\t \", mean_squared_error(real, cons))"
   ]
  }
 ],
 "metadata": {
  "kernelspec": {
   "display_name": "mlenv",
   "language": "python",
   "name": "python3"
  },
  "language_info": {
   "codemirror_mode": {
    "name": "ipython",
    "version": 3
   },
   "file_extension": ".py",
   "mimetype": "text/x-python",
   "name": "python",
   "nbconvert_exporter": "python",
   "pygments_lexer": "ipython3",
   "version": "3.10.12"
  }
 },
 "nbformat": 4,
 "nbformat_minor": 2
}
